{
 "cells": [
  {
   "cell_type": "code",
   "execution_count": 1,
   "metadata": {
    "collapsed": true
   },
   "outputs": [],
   "source": [
    "# Import necessary packages\n",
    "%matplotlib inline\n",
    "import matplotlib.pyplot as plt #matplotlib\n",
    "import numpy as np #numpy\n",
    "import pandas as pd #pandas\n",
    "import requests #requests\n",
    "import datetime #datetime\n",
    "import re #regularexpressions\n",
    "import subprocess\n",
    "from sklearn import tree\n",
    "from sklearn.tree import export_graphviz\n",
    "from sklearn.tree import DecisionTreeRegressor\n",
    "from sklearn.linear_model import RandomizedLasso\n",
    "from sklearn.cross_validation import train_test_split\n",
    "import statsmodels.formula.api as smf\n",
    "import statsmodels.api as sm\n",
    "from sklearn.metrics import mean_squared_error\n",
    "from sklearn import datasets\n",
    "from sklearn.feature_selection import RFE\n",
    "from sklearn.linear_model import LinearRegression\n",
    "from sklearn.feature_selection import RFECV\n",
    "from sklearn.linear_model import Ridge\n",
    "from sklearn.linear_model import Lasso\n",
    "from sklearn.feature_selection import f_regression\n",
    "from sklearn.preprocessing import MinMaxScaler\n",
    "from sklearn.ensemble import RandomForestRegressor\n",
    "from pandas.tools.plotting import scatter_matrix\n",
    "import collections"
   ]
  },
  {
   "cell_type": "code",
   "execution_count": 2,
   "metadata": {
    "collapsed": false
   },
   "outputs": [
    {
     "data": {
      "text/plain": [
       "'0.17'"
      ]
     },
     "execution_count": 2,
     "metadata": {},
     "output_type": "execute_result"
    }
   ],
   "source": [
    "import sklearn\n",
    "sklearn.__version__"
   ]
  },
  {
   "cell_type": "code",
   "execution_count": 3,
   "metadata": {
    "collapsed": false
   },
   "outputs": [],
   "source": [
    "# Read in data\n",
    "nsidc_df = pd.read_csv('nsidc_clean_df_2016-05-22_1955.csv')"
   ]
  },
  {
   "cell_type": "code",
   "execution_count": 4,
   "metadata": {
    "collapsed": false
   },
   "outputs": [],
   "source": [
    "# Drop the first column which is a duplicated index\n",
    "nsidc_df.drop(nsidc_df.columns[[0]], axis=1, inplace=True)"
   ]
  },
  {
   "cell_type": "code",
   "execution_count": 5,
   "metadata": {
    "collapsed": false
   },
   "outputs": [
    {
     "data": {
      "text/plain": [
       "dataset_id                   object\n",
       "unique_users_ip               int64\n",
       "scrape_date                  object\n",
       "scrape_time                  object\n",
       "version_clean                 int64\n",
       "title_original               object\n",
       "doi_address_clean            object\n",
       "citation_date_clean         float64\n",
       "count_data_format             int64\n",
       "data_format_string           object\n",
       "contributors_clean           object\n",
       "contributor_list             object\n",
       "contributor_last_names       object\n",
       "count_contributors            int64\n",
       "spatial_coverage_clean       object\n",
       "count_spatial_coverage        int64\n",
       "spatial_resolution_clean     object\n",
       "count_spatial_resolution      int64\n",
       "platforms_clean              object\n",
       "count_platforms               int64\n",
       "sensors_clean                object\n",
       "count_sensors                 int64\n",
       "update_frequency             object\n",
       "location_clean               object\n",
       "count_locations               int64\n",
       "keyword_clean                object\n",
       "count_keyword                 int64\n",
       "last_updated                 object\n",
       "count_page_ref                int64\n",
       "count_dataset_ref_out         int64\n",
       "dataset_ref_out              object\n",
       "count_dataset_ref_in          int64\n",
       "dataset_ref_in               object\n",
       "dtype: object"
      ]
     },
     "execution_count": 5,
     "metadata": {},
     "output_type": "execute_result"
    }
   ],
   "source": [
    "# Check datatypes\n",
    "nsidc_df.dtypes"
   ]
  },
  {
   "cell_type": "code",
   "execution_count": 6,
   "metadata": {
    "collapsed": true
   },
   "outputs": [],
   "source": [
    "# Assign citation_date_clean the datatype category for later linear regression\n",
    "nsidc_df[\"citation_date_clean\"] = nsidc_df[\"citation_date_clean\"].astype('category')"
   ]
  },
  {
   "cell_type": "code",
   "execution_count": 7,
   "metadata": {
    "collapsed": false
   },
   "outputs": [
    {
     "data": {
      "text/plain": [
       "count      797.000000\n",
       "mean       150.542033\n",
       "std       1214.588623\n",
       "min          1.000000\n",
       "25%         21.000000\n",
       "50%         38.000000\n",
       "75%         70.000000\n",
       "max      24447.000000\n",
       "Name: unique_users_ip, dtype: float64"
      ]
     },
     "execution_count": 7,
     "metadata": {},
     "output_type": "execute_result"
    }
   ],
   "source": [
    "# Describe unique_users_ip column\n",
    "nsidc_df['unique_users_ip'].describe()"
   ]
  },
  {
   "cell_type": "code",
   "execution_count": 8,
   "metadata": {
    "collapsed": false
   },
   "outputs": [
    {
     "data": {
      "text/plain": [
       "dataset_id                  11\n",
       "unique_users_ip             11\n",
       "scrape_date                 11\n",
       "scrape_time                 11\n",
       "version_clean               11\n",
       "title_original              11\n",
       "doi_address_clean           11\n",
       "citation_date_clean         11\n",
       "count_data_format           11\n",
       "data_format_string          11\n",
       "contributors_clean          11\n",
       "contributor_list            11\n",
       "contributor_last_names      11\n",
       "count_contributors          11\n",
       "spatial_coverage_clean      11\n",
       "count_spatial_coverage      11\n",
       "spatial_resolution_clean    11\n",
       "count_spatial_resolution    11\n",
       "platforms_clean             11\n",
       "count_platforms             11\n",
       "sensors_clean               11\n",
       "count_sensors               11\n",
       "update_frequency            11\n",
       "location_clean              11\n",
       "count_locations             11\n",
       "keyword_clean               11\n",
       "count_keyword               11\n",
       "last_updated                11\n",
       "count_page_ref              11\n",
       "count_dataset_ref_out       11\n",
       "dataset_ref_out              8\n",
       "count_dataset_ref_in        11\n",
       "dataset_ref_in               6\n",
       "dtype: int64"
      ]
     },
     "execution_count": 8,
     "metadata": {},
     "output_type": "execute_result"
    }
   ],
   "source": [
    "# Describe unique_users_ip column\n",
    "nsidc_df[nsidc_df.update_frequency == \"2015\"].count()"
   ]
  },
  {
   "cell_type": "code",
   "execution_count": 9,
   "metadata": {
    "collapsed": false
   },
   "outputs": [
    {
     "data": {
      "text/plain": [
       "count      797\n",
       "unique      28\n",
       "top       2003\n",
       "freq        80\n",
       "Name: citation_date_clean, dtype: float64"
      ]
     },
     "execution_count": 9,
     "metadata": {},
     "output_type": "execute_result"
    }
   ],
   "source": [
    "# Describe citation_date_clean column\n",
    "nsidc_df.citation_date_clean.describe()"
   ]
  },
  {
   "cell_type": "code",
   "execution_count": 10,
   "metadata": {
    "collapsed": false
   },
   "outputs": [
    {
     "data": {
      "image/png": "[encoded data removed]",
      "text/plain": [
       "<matplotlib.figure.Figure at 0x1038cb610>"
      ]
     },
     "metadata": {},
     "output_type": "display_data"
    }
   ],
   "source": [
    "fig = plt.figure(figsize=(12,8))  # create a figure object\n",
    "axes = fig.add_subplot(1, 1, 1)  # create an axes object in the figure\n",
    "\n",
    "\n",
    "# Set bin size to 1\n",
    "binwidth = 1\n",
    "# Plot a histogram of citation dates for the whole dataframe\n",
    "plt.hist(nsidc_df['citation_date_clean'], bins=np.arange(min(nsidc_df['citation_date_clean']), \n",
    "                                                         max(nsidc_df['citation_date_clean']) + binwidth, binwidth), \n",
    "         color='green', linewidth=2, align='left')\n",
    "# Set the x limit\n",
    "plt.xlim([1980, 2016])\n",
    "# Add x-axis label\n",
    "plt.xlabel('Year of Dataset Publication', fontsize=16)\n",
    "# Add y-axis label\n",
    "plt.ylabel('Count of Datasets', fontsize=16)\n",
    "# Add a plot title\n",
    "plt.title('Count of NSIDC Datasets by Publication Year', fontsize=20)\n",
    "# Save plot as jpg\n",
    "plt.savefig('Histogram_DatasetPublicationYear.jpg')"
   ]
  },
  {
   "cell_type": "code",
   "execution_count": 11,
   "metadata": {
    "collapsed": false
   },
   "outputs": [
    {
     "data": {
      "text/plain": [
       "count    797.000000\n",
       "mean       2.601004\n",
       "std        1.651526\n",
       "min        1.000000\n",
       "25%        1.000000\n",
       "50%        2.000000\n",
       "75%        3.000000\n",
       "max       10.000000\n",
       "Name: count_contributors, dtype: float64"
      ]
     },
     "execution_count": 11,
     "metadata": {},
     "output_type": "execute_result"
    }
   ],
   "source": [
    "# Describe count_contributors column\n",
    "nsidc_df.count_contributors.describe()"
   ]
  },
  {
   "cell_type": "code",
   "execution_count": 12,
   "metadata": {
    "collapsed": false
   },
   "outputs": [
    {
     "data": {
      "text/plain": [
       "2.0"
      ]
     },
     "execution_count": 12,
     "metadata": {},
     "output_type": "execute_result"
    }
   ],
   "source": [
    "# Check median value of count_contributors\n",
    "np.median(nsidc_df['count_contributors'])"
   ]
  },
  {
   "cell_type": "code",
   "execution_count": 13,
   "metadata": {
    "collapsed": false
   },
   "outputs": [
    {
     "data": {
      "image/png": "[encoded data removed]",
      "text/plain": [
       "<matplotlib.figure.Figure at 0x10a3995d0>"
      ]
     },
     "metadata": {},
     "output_type": "display_data"
    }
   ],
   "source": [
    "fig = plt.figure(figsize=(12,8))  # create a figure object\n",
    "axes = fig.add_subplot(1, 1, 1)  # create an axes object in the figure\n",
    "\n",
    "\n",
    "# Set bin size to 1\n",
    "binwidth = 1\n",
    "# Plot a histogram of count of contributors per dataset for the whole dataframe\n",
    "plt.hist(nsidc_df['count_contributors'], bins=np.arange(min(nsidc_df['count_contributors']), \n",
    "                                                         max(nsidc_df['count_contributors'])+1 + binwidth, binwidth), \n",
    "         color='green', linewidth=2, align='left')\n",
    "# set the x-axis tick marks\n",
    "plt.xticks(np.arange(min(nsidc_df['count_contributors']), max(nsidc_df['count_contributors'])+1, 1.0))\n",
    "\n",
    "# Add x-axis label\n",
    "plt.xlabel('Number of Contributors', fontsize=16)\n",
    "# Add y-axis label\n",
    "plt.ylabel('Count of Datasets with Specifed Number of Contributors', fontsize=16)\n",
    "# Add a plot title\n",
    "plt.title('Count of NSIDC Datasets by Contributor Number', fontsize=20)\n",
    "# Save plot as jpg\n",
    "plt.savefig('Histogram_CountContributors.jpg')"
   ]
  },
  {
   "cell_type": "code",
   "execution_count": 14,
   "metadata": {
    "collapsed": false
   },
   "outputs": [
    {
     "data": {
      "text/plain": [
       "count    797.000000\n",
       "mean       1.333752\n",
       "std        0.873408\n",
       "min        0.000000\n",
       "25%        1.000000\n",
       "50%        1.000000\n",
       "75%        2.000000\n",
       "max        8.000000\n",
       "Name: count_data_format, dtype: float64"
      ]
     },
     "execution_count": 14,
     "metadata": {},
     "output_type": "execute_result"
    }
   ],
   "source": [
    "# Describe count_data_formats column\n",
    "nsidc_df.count_data_format.describe()"
   ]
  },
  {
   "cell_type": "code",
   "execution_count": 15,
   "metadata": {
    "collapsed": false
   },
   "outputs": [
    {
     "data": {
      "image/png": "[encoded data removed]",
      "text/plain": [
       "<matplotlib.figure.Figure at 0x109b181d0>"
      ]
     },
     "metadata": {},
     "output_type": "display_data"
    }
   ],
   "source": [
    "fig = plt.figure(figsize=(12,8))  # create a figure object\n",
    "axes = fig.add_subplot(1, 1, 1)  # create an axes object in the figure\n",
    "\n",
    "\n",
    "# Set bin size to 1\n",
    "binwidth = 1\n",
    "# Plot a histogram of count of data formats per dataset for the whole dataframe\n",
    "plt.hist(nsidc_df['count_data_format'], bins=np.arange(min(nsidc_df['count_data_format']) -1, \n",
    "                                                         max(nsidc_df['count_data_format']) +1 + binwidth, binwidth), \n",
    "         color='green', linewidth=2, align='right')\n",
    "# set the x-axis tick marks\n",
    "plt.xticks(np.arange(min(nsidc_df['count_data_format']), max(nsidc_df['count_data_format'])+1, 1.0))\n",
    "# Add x-axis label\n",
    "plt.xlabel('Number of Data Formats', fontsize=16)\n",
    "# Add y-axis label\n",
    "plt.ylabel('Count of Datasets', fontsize=16)\n",
    "# Add a plot title\n",
    "plt.title('Count of NSIDC Datasets by Number of Data Formats', fontsize=20)\n",
    "# Save plot as jpg\n",
    "plt.savefig('Histogram_CountDataFormats.jpg')"
   ]
  },
  {
   "cell_type": "code",
   "execution_count": 16,
   "metadata": {
    "collapsed": false
   },
   "outputs": [
    {
     "data": {
      "text/plain": [
       "count    797.000000\n",
       "mean       1.579674\n",
       "std        1.690273\n",
       "min        0.000000\n",
       "25%        1.000000\n",
       "50%        1.000000\n",
       "75%        2.000000\n",
       "max       17.000000\n",
       "Name: count_platforms, dtype: float64"
      ]
     },
     "execution_count": 16,
     "metadata": {},
     "output_type": "execute_result"
    }
   ],
   "source": [
    "# Describe count_platforms column\n",
    "nsidc_df['count_platforms'].describe()"
   ]
  },
  {
   "cell_type": "code",
   "execution_count": 17,
   "metadata": {
    "collapsed": false
   },
   "outputs": [
    {
     "data": {
      "text/plain": [
       "count    797.000000\n",
       "mean       1.614806\n",
       "std        1.915536\n",
       "min        0.000000\n",
       "25%        1.000000\n",
       "50%        1.000000\n",
       "75%        2.000000\n",
       "max       27.000000\n",
       "Name: count_sensors, dtype: float64"
      ]
     },
     "execution_count": 17,
     "metadata": {},
     "output_type": "execute_result"
    }
   ],
   "source": [
    "# Describe count_sensors column\n",
    "nsidc_df['count_sensors'].describe()"
   ]
  },
  {
   "cell_type": "code",
   "execution_count": 18,
   "metadata": {
    "collapsed": false
   },
   "outputs": [
    {
     "data": {
      "text/plain": [
       "count    797.000000\n",
       "mean       2.500627\n",
       "std        6.182855\n",
       "min        1.000000\n",
       "25%        1.000000\n",
       "50%        1.000000\n",
       "75%        1.000000\n",
       "max       34.000000\n",
       "Name: version_clean, dtype: float64"
      ]
     },
     "execution_count": 18,
     "metadata": {},
     "output_type": "execute_result"
    }
   ],
   "source": [
    "# Describe version_clean column\n",
    "nsidc_df['version_clean'].describe()"
   ]
  },
  {
   "cell_type": "code",
   "execution_count": 19,
   "metadata": {
    "collapsed": false
   },
   "outputs": [
    {
     "data": {
      "text/html": [
       "<div>\n",
       "<table border=\"1\" class=\"dataframe\">\n",
       "  <thead>\n",
       "    <tr style=\"text-align: right;\">\n",
       "      <th></th>\n",
       "      <th>mean</th>\n",
       "      <th>std</th>\n",
       "      <th>min</th>\n",
       "      <th>max</th>\n",
       "      <th>count</th>\n",
       "    </tr>\n",
       "    <tr>\n",
       "      <th>count_data_format</th>\n",
       "      <th></th>\n",
       "      <th></th>\n",
       "      <th></th>\n",
       "      <th></th>\n",
       "      <th></th>\n",
       "    </tr>\n",
       "  </thead>\n",
       "  <tbody>\n",
       "    <tr>\n",
       "      <th>0</th>\n",
       "      <td>59.808511</td>\n",
       "      <td>92.925084</td>\n",
       "      <td>6</td>\n",
       "      <td>649</td>\n",
       "      <td>47</td>\n",
       "    </tr>\n",
       "    <tr>\n",
       "      <th>1</th>\n",
       "      <td>70.058161</td>\n",
       "      <td>134.948467</td>\n",
       "      <td>1</td>\n",
       "      <td>1461</td>\n",
       "      <td>533</td>\n",
       "    </tr>\n",
       "    <tr>\n",
       "      <th>2</th>\n",
       "      <td>159.205128</td>\n",
       "      <td>735.263198</td>\n",
       "      <td>1</td>\n",
       "      <td>5862</td>\n",
       "      <td>156</td>\n",
       "    </tr>\n",
       "    <tr>\n",
       "      <th>3</th>\n",
       "      <td>627.477273</td>\n",
       "      <td>3322.587304</td>\n",
       "      <td>3</td>\n",
       "      <td>22119</td>\n",
       "      <td>44</td>\n",
       "    </tr>\n",
       "    <tr>\n",
       "      <th>4</th>\n",
       "      <td>205.900000</td>\n",
       "      <td>398.435119</td>\n",
       "      <td>8</td>\n",
       "      <td>1235</td>\n",
       "      <td>10</td>\n",
       "    </tr>\n",
       "    <tr>\n",
       "      <th>5</th>\n",
       "      <td>153.000000</td>\n",
       "      <td>60.811183</td>\n",
       "      <td>110</td>\n",
       "      <td>196</td>\n",
       "      <td>2</td>\n",
       "    </tr>\n",
       "    <tr>\n",
       "      <th>6</th>\n",
       "      <td>14.000000</td>\n",
       "      <td>NaN</td>\n",
       "      <td>14</td>\n",
       "      <td>14</td>\n",
       "      <td>1</td>\n",
       "    </tr>\n",
       "    <tr>\n",
       "      <th>7</th>\n",
       "      <td>12374.500000</td>\n",
       "      <td>17073.093232</td>\n",
       "      <td>302</td>\n",
       "      <td>24447</td>\n",
       "      <td>2</td>\n",
       "    </tr>\n",
       "    <tr>\n",
       "      <th>8</th>\n",
       "      <td>128.500000</td>\n",
       "      <td>116.672619</td>\n",
       "      <td>46</td>\n",
       "      <td>211</td>\n",
       "      <td>2</td>\n",
       "    </tr>\n",
       "  </tbody>\n",
       "</table>\n",
       "</div>"
      ],
      "text/plain": [
       "                           mean           std  min    max  count\n",
       "count_data_format                                               \n",
       "0                     59.808511     92.925084    6    649     47\n",
       "1                     70.058161    134.948467    1   1461    533\n",
       "2                    159.205128    735.263198    1   5862    156\n",
       "3                    627.477273   3322.587304    3  22119     44\n",
       "4                    205.900000    398.435119    8   1235     10\n",
       "5                    153.000000     60.811183  110    196      2\n",
       "6                     14.000000           NaN   14     14      1\n",
       "7                  12374.500000  17073.093232  302  24447      2\n",
       "8                    128.500000    116.672619   46    211      2"
      ]
     },
     "execution_count": 19,
     "metadata": {},
     "output_type": "execute_result"
    }
   ],
   "source": [
    "# Show the mean, std, min, max, coun of unique_users_ip for each value of count_data_format\n",
    "nsidc_df.groupby('count_data_format')['unique_users_ip'].agg(['mean', 'std', 'min', 'max', 'count'])"
   ]
  },
  {
   "cell_type": "code",
   "execution_count": 20,
   "metadata": {
    "collapsed": false
   },
   "outputs": [
    {
     "data": {
      "text/html": [
       "<div>\n",
       "<table border=\"1\" class=\"dataframe\">\n",
       "  <thead>\n",
       "    <tr style=\"text-align: right;\">\n",
       "      <th></th>\n",
       "      <th>mean</th>\n",
       "      <th>std</th>\n",
       "      <th>min</th>\n",
       "      <th>max</th>\n",
       "      <th>count</th>\n",
       "    </tr>\n",
       "    <tr>\n",
       "      <th>count_contributors</th>\n",
       "      <th></th>\n",
       "      <th></th>\n",
       "      <th></th>\n",
       "      <th></th>\n",
       "      <th></th>\n",
       "    </tr>\n",
       "  </thead>\n",
       "  <tbody>\n",
       "    <tr>\n",
       "      <th>1</th>\n",
       "      <td>98.242009</td>\n",
       "      <td>419.400501</td>\n",
       "      <td>4</td>\n",
       "      <td>5862</td>\n",
       "      <td>219</td>\n",
       "    </tr>\n",
       "    <tr>\n",
       "      <th>2</th>\n",
       "      <td>61.436293</td>\n",
       "      <td>110.961543</td>\n",
       "      <td>1</td>\n",
       "      <td>1235</td>\n",
       "      <td>259</td>\n",
       "    </tr>\n",
       "    <tr>\n",
       "      <th>3</th>\n",
       "      <td>98.279412</td>\n",
       "      <td>181.861595</td>\n",
       "      <td>3</td>\n",
       "      <td>1461</td>\n",
       "      <td>136</td>\n",
       "    </tr>\n",
       "    <tr>\n",
       "      <th>4</th>\n",
       "      <td>573.395604</td>\n",
       "      <td>3428.703937</td>\n",
       "      <td>3</td>\n",
       "      <td>24447</td>\n",
       "      <td>91</td>\n",
       "    </tr>\n",
       "    <tr>\n",
       "      <th>5</th>\n",
       "      <td>189.022727</td>\n",
       "      <td>841.880909</td>\n",
       "      <td>4</td>\n",
       "      <td>5629</td>\n",
       "      <td>44</td>\n",
       "    </tr>\n",
       "    <tr>\n",
       "      <th>6</th>\n",
       "      <td>114.210526</td>\n",
       "      <td>221.514880</td>\n",
       "      <td>7</td>\n",
       "      <td>992</td>\n",
       "      <td>19</td>\n",
       "    </tr>\n",
       "    <tr>\n",
       "      <th>7</th>\n",
       "      <td>40.100000</td>\n",
       "      <td>25.765826</td>\n",
       "      <td>11</td>\n",
       "      <td>90</td>\n",
       "      <td>10</td>\n",
       "    </tr>\n",
       "    <tr>\n",
       "      <th>8</th>\n",
       "      <td>108.250000</td>\n",
       "      <td>113.454136</td>\n",
       "      <td>15</td>\n",
       "      <td>433</td>\n",
       "      <td>12</td>\n",
       "    </tr>\n",
       "    <tr>\n",
       "      <th>9</th>\n",
       "      <td>800.666667</td>\n",
       "      <td>1825.307499</td>\n",
       "      <td>3</td>\n",
       "      <td>4526</td>\n",
       "      <td>6</td>\n",
       "    </tr>\n",
       "    <tr>\n",
       "      <th>10</th>\n",
       "      <td>19.000000</td>\n",
       "      <td>NaN</td>\n",
       "      <td>19</td>\n",
       "      <td>19</td>\n",
       "      <td>1</td>\n",
       "    </tr>\n",
       "  </tbody>\n",
       "</table>\n",
       "</div>"
      ],
      "text/plain": [
       "                          mean          std  min    max  count\n",
       "count_contributors                                            \n",
       "1                    98.242009   419.400501    4   5862    219\n",
       "2                    61.436293   110.961543    1   1235    259\n",
       "3                    98.279412   181.861595    3   1461    136\n",
       "4                   573.395604  3428.703937    3  24447     91\n",
       "5                   189.022727   841.880909    4   5629     44\n",
       "6                   114.210526   221.514880    7    992     19\n",
       "7                    40.100000    25.765826   11     90     10\n",
       "8                   108.250000   113.454136   15    433     12\n",
       "9                   800.666667  1825.307499    3   4526      6\n",
       "10                   19.000000          NaN   19     19      1"
      ]
     },
     "execution_count": 20,
     "metadata": {},
     "output_type": "execute_result"
    }
   ],
   "source": [
    "# Show the mean, std, min, max, coun of unique_users_ip for each value of count_contributors\n",
    "nsidc_df.groupby('count_contributors')['unique_users_ip'].agg(['mean', 'std', 'min', 'max', 'count'])"
   ]
  },
  {
   "cell_type": "code",
   "execution_count": 21,
   "metadata": {
    "collapsed": false
   },
   "outputs": [
    {
     "data": {
      "image/png": "[encoded data removed]",
      "text/plain": [
       "<matplotlib.figure.Figure at 0x10a6af0d0>"
      ]
     },
     "metadata": {},
     "output_type": "display_data"
    }
   ],
   "source": [
    "fig = plt.figure(figsize=(12,8))  # create a figure object\n",
    "axes = fig.add_subplot(1, 1, 1)  # create an axes object in the figure\n",
    "\n",
    "\n",
    "# Set bin size to 1\n",
    "binwidth = 1\n",
    "# Plot a histogram of count of keywords per dataset for the whole dataframe\n",
    "plt.hist(nsidc_df['count_keyword'], bins=np.arange(min(nsidc_df['count_keyword']), \n",
    "                                                         max(nsidc_df['count_keyword']) +1 + binwidth, binwidth), \n",
    "         color='green', linewidth=2)\n",
    "# set the x-axis tick marks\n",
    "plt.xticks(np.arange(min(nsidc_df['count_keyword']), max(nsidc_df['count_keyword'])+1, 5.0))\n",
    "\n",
    "# Set the x limit\n",
    "plt.xlim([-1, 68])\n",
    "# Add x-axis label\n",
    "plt.xlabel('Number of Keywords', fontsize=16)\n",
    "# Add y-axis label\n",
    "plt.ylabel('Count of Datasets with Specifed Number of Keywords', fontsize=16)\n",
    "# Add a plot title\n",
    "plt.title('Count of NSIDC Datasets by Number of Keywords', fontsize=20)\n",
    "# Save plot as jpg\n",
    "plt.savefig('Histogram_CountKeywords.jpg')"
   ]
  },
  {
   "cell_type": "code",
   "execution_count": 22,
   "metadata": {
    "collapsed": false
   },
   "outputs": [
    {
     "data": {
      "image/png": "[encoded data removed]",
      "text/plain": [
       "<matplotlib.figure.Figure at 0x103f54dd0>"
      ]
     },
     "metadata": {},
     "output_type": "display_data"
    }
   ],
   "source": [
    "fig = plt.figure(figsize=(14,8))  # create a figure object\n",
    "axes = fig.add_subplot(1, 1, 1)  # create an axes object in the figure\n",
    "\n",
    "# We change the fontsize of minor ticks label \n",
    "plt.tick_params(axis='both', which='major', labelsize=16)\n",
    "plt.tick_params(axis='both', which='minor', labelsize=16)\n",
    "# Set bin size to 1\n",
    "binwidth = 500\n",
    "# Plot a histogram of count of keywords per dataset for the whole dataframe\n",
    "plt.hist(nsidc_df.unique_users_ip, bins=np.arange(min(nsidc_df.unique_users_ip)-1, \n",
    "                                                         max(nsidc_df.unique_users_ip) +1 + binwidth, binwidth), \n",
    "         color='green', linewidth=2)\n",
    "# set the x-axis tick marks\n",
    "plt.xticks(np.arange(min(nsidc_df.unique_users_ip)-1, max(nsidc_df.unique_users_ip)+1, 2000.0))\n",
    "# Set the x limit\n",
    "#plt.xlim([-10, 800])\n",
    "# Set the ylimit\n",
    "#plt.ylim([-500, 25000])\n",
    "# Add x-axis label\n",
    "plt.xlabel('Download Count', fontsize=18)\n",
    "# Add y-axis label\n",
    "plt.ylabel('Number of Datasets', fontsize=18)\n",
    "# Add a plot title\n",
    "plt.title('Distribution of Downloads', fontsize=24)\n",
    "# Save plot as jpg\n",
    "plt.savefig('Hist_DownloadDistribution.jpg')"
   ]
  },
  {
   "cell_type": "code",
   "execution_count": 23,
   "metadata": {
    "collapsed": false
   },
   "outputs": [
    {
     "data": {
      "image/png": "[encoded data removed]",
      "text/plain": [
       "<matplotlib.figure.Figure at 0x10a13a610>"
      ]
     },
     "metadata": {},
     "output_type": "display_data"
    }
   ],
   "source": [
    "fig = plt.figure(figsize=(14,8))  # create a figure object\n",
    "axes = fig.add_subplot(1, 1, 1)  # create an axes object in the figure\n",
    "\n",
    "logcount = np.log(nsidc_df['unique_users_ip'])\n",
    "# We change the fontsize of minor ticks label \n",
    "plt.tick_params(axis='both', which='major', labelsize=16)\n",
    "plt.tick_params(axis='both', which='minor', labelsize=16)\n",
    "# Set bin size to 1\n",
    "binwidth = 1\n",
    "# Plot a histogram of count of keywords per dataset for the whole dataframe\n",
    "plt.hist(logcount, color='green', linewidth=2, align='right')\n",
    "# set the x-axis tick marks\n",
    "plt.xticks(np.arange(0,11, 1))\n",
    "# Set the x limit\n",
    "#plt.xlim([-.2, 7])\n",
    "# Set the ylimit\n",
    "#plt.ylim([-1, 11])\n",
    "# Add x-axis label\n",
    "plt.xlabel(r'Log$_{e}$ Download Count', fontsize=18)\n",
    "# Add y-axis label\n",
    "plt.ylabel('Number of Datasets', fontsize=18)\n",
    "# Add a plot title\n",
    "plt.title(r'Log$_{e}$ Distribution of Downloads', fontsize=24)\n",
    "# Save plot as jpg\n",
    "plt.savefig('Hist_LogDownloadDistribution.jpg')"
   ]
  },
  {
   "cell_type": "code",
   "execution_count": 24,
   "metadata": {
    "collapsed": false
   },
   "outputs": [
    {
     "data": {
      "image/png": "[encoded data removed]",
      "text/plain": [
       "<matplotlib.figure.Figure at 0x10a9b6a50>"
      ]
     },
     "metadata": {},
     "output_type": "display_data"
    }
   ],
   "source": [
    "import matplotlib.patches as mpatches\n",
    "\n",
    "fig = plt.figure(figsize=(14,8))  # create a figure object\n",
    "axes = fig.add_subplot(1, 1, 1)  # create an axes object in the figure\n",
    "\n",
    "logcount = np.log(nsidc_df['unique_users_ip'])\n",
    "# We change the fontsize of minor ticks label \n",
    "plt.tick_params(axis='both', which='major', labelsize=16)\n",
    "plt.tick_params(axis='both', which='minor', labelsize=16)\n",
    "\n",
    "plt.scatter(nsidc_df.index, logcount, color='green', linewidth=2)\n",
    "fit = np.polyfit(nsidc_df.index, logcount, deg=1)\n",
    "axes.plot(nsidc_df.index, fit[0] * nsidc_df.index + fit[1], color='red', linewidth=2)\n",
    "# set the x-axis tick marks\n",
    "#plt.xticks(np.arange(0,11, 1.0))\n",
    "# Set the x limit\n",
    "#plt.xlim([-.2, 7])\n",
    "# Set the ylimit\n",
    "#plt.ylim([-1, 11])\n",
    "# Add x-axis label\n",
    "\n",
    "plt.xlabel('Index of Datasets in Descending Order of Download Count', fontsize=18)\n",
    "# Add y-axis label\n",
    "plt.ylabel(r'Log$_e$ Download Count', fontsize=18)\n",
    "# Add a plot title\n",
    "plt.title(r'Log$_e$ Distribution of Downloads', fontsize=24)\n",
    "\n",
    "red_patch = mpatches.Patch(color='red', label='Linear Fit')\n",
    "plt.legend(handles=[red_patch], fontsize=14)\n",
    "\n",
    "# Save plot as jpg\n",
    "plt.savefig('Scatter_LogDownloadDistribution.jpg')"
   ]
  },
  {
   "cell_type": "code",
   "execution_count": 25,
   "metadata": {
    "collapsed": false
   },
   "outputs": [
    {
     "data": {
      "text/plain": [
       "Index([u'dataset_id', u'unique_users_ip', u'scrape_date', u'scrape_time',\n",
       "       u'version_clean', u'title_original', u'doi_address_clean',\n",
       "       u'citation_date_clean', u'count_data_format', u'data_format_string',\n",
       "       u'contributors_clean', u'contributor_list', u'contributor_last_names',\n",
       "       u'count_contributors', u'spatial_coverage_clean',\n",
       "       u'count_spatial_coverage', u'spatial_resolution_clean',\n",
       "       u'count_spatial_resolution', u'platforms_clean', u'count_platforms',\n",
       "       u'sensors_clean', u'count_sensors', u'update_frequency',\n",
       "       u'location_clean', u'count_locations', u'keyword_clean',\n",
       "       u'count_keyword', u'last_updated', u'count_page_ref',\n",
       "       u'count_dataset_ref_out', u'dataset_ref_out', u'count_dataset_ref_in',\n",
       "       u'dataset_ref_in'],\n",
       "      dtype='object')"
      ]
     },
     "execution_count": 25,
     "metadata": {},
     "output_type": "execute_result"
    }
   ],
   "source": [
    "# Output column names\n",
    "nsidc_df.columns"
   ]
  },
  {
   "cell_type": "code",
   "execution_count": 26,
   "metadata": {
    "collapsed": false
   },
   "outputs": [],
   "source": [
    "# Set seed for reproducibility\n",
    "np.random.seed(4298)\n",
    "# Split dataframe into test (20%) and train (80%)\n",
    "nsidc_train, nsidc_test = train_test_split(nsidc_df, test_size = 0.20)"
   ]
  },
  {
   "cell_type": "code",
   "execution_count": 27,
   "metadata": {
    "collapsed": false
   },
   "outputs": [],
   "source": [
    "# Run linear regression with natural log of unique_users_ip as the dependent/target variable\n",
    "nsidc_lr = smf.ols(formula=\n",
    "                   'np.log(unique_users_ip) ~ -1 + count_data_format + count_contributors + count_platforms + count_sensors + count_spatial_coverage + count_spatial_resolution + count_locations + count_keyword',\n",
    "                   data=nsidc_train).fit()\n",
    "# Create an array of predictions for the training and testing data\n",
    "nsidc_train_pred = nsidc_lr.predict(nsidc_train)\n",
    "nsidc_test_pred = nsidc_lr.predict(nsidc_test)"
   ]
  },
  {
   "cell_type": "code",
   "execution_count": 28,
   "metadata": {
    "collapsed": false
   },
   "outputs": [
    {
     "data": {
      "text/html": [
       "<table class=\"simpletable\">\n",
       "<caption>OLS Regression Results</caption>\n",
       "<tr>\n",
       "  <th>Dep. Variable:</th>    <td>np.log(unique_users_ip)</td> <th>  R-squared:         </th> <td>   0.884</td> \n",
       "</tr>\n",
       "<tr>\n",
       "  <th>Model:</th>                      <td>OLS</td>           <th>  Adj. R-squared:    </th> <td>   0.882</td> \n",
       "</tr>\n",
       "<tr>\n",
       "  <th>Method:</th>                <td>Least Squares</td>      <th>  F-statistic:       </th> <td>   598.0</td> \n",
       "</tr>\n",
       "<tr>\n",
       "  <th>Date:</th>                <td>Tue, 31 May 2016</td>     <th>  Prob (F-statistic):</th> <td>3.69e-288</td>\n",
       "</tr>\n",
       "<tr>\n",
       "  <th>Time:</th>                    <td>13:04:57</td>         <th>  Log-Likelihood:    </th> <td> -1074.5</td> \n",
       "</tr>\n",
       "<tr>\n",
       "  <th>No. Observations:</th>         <td>   637</td>          <th>  AIC:               </th> <td>   2165.</td> \n",
       "</tr>\n",
       "<tr>\n",
       "  <th>Df Residuals:</th>             <td>   629</td>          <th>  BIC:               </th> <td>   2201.</td> \n",
       "</tr>\n",
       "<tr>\n",
       "  <th>Df Model:</th>                 <td>     8</td>          <th>                     </th>     <td> </td>    \n",
       "</tr>\n",
       "<tr>\n",
       "  <th>Covariance Type:</th>         <td>nonrobust</td>        <th>                     </th>     <td> </td>    \n",
       "</tr>\n",
       "</table>\n",
       "<table class=\"simpletable\">\n",
       "<tr>\n",
       "              <td></td>                <th>coef</th>     <th>std err</th>      <th>t</th>      <th>P>|t|</th> <th>[95.0% Conf. Int.]</th> \n",
       "</tr>\n",
       "<tr>\n",
       "  <th>count_data_format</th>        <td>    0.3693</td> <td>    0.058</td> <td>    6.345</td> <td> 0.000</td> <td>    0.255     0.484</td>\n",
       "</tr>\n",
       "<tr>\n",
       "  <th>count_contributors</th>       <td>    0.2391</td> <td>    0.031</td> <td>    7.640</td> <td> 0.000</td> <td>    0.178     0.301</td>\n",
       "</tr>\n",
       "<tr>\n",
       "  <th>count_platforms</th>          <td>    0.1894</td> <td>    0.036</td> <td>    5.223</td> <td> 0.000</td> <td>    0.118     0.261</td>\n",
       "</tr>\n",
       "<tr>\n",
       "  <th>count_sensors</th>            <td>    0.0101</td> <td>    0.031</td> <td>    0.326</td> <td> 0.745</td> <td>   -0.051     0.071</td>\n",
       "</tr>\n",
       "<tr>\n",
       "  <th>count_spatial_coverage</th>   <td>    1.0941</td> <td>    0.103</td> <td>   10.629</td> <td> 0.000</td> <td>    0.892     1.296</td>\n",
       "</tr>\n",
       "<tr>\n",
       "  <th>count_spatial_resolution</th> <td>    0.0269</td> <td>    0.097</td> <td>    0.277</td> <td> 0.782</td> <td>   -0.164     0.217</td>\n",
       "</tr>\n",
       "<tr>\n",
       "  <th>count_locations</th>          <td>    0.1870</td> <td>    0.033</td> <td>    5.613</td> <td> 0.000</td> <td>    0.122     0.252</td>\n",
       "</tr>\n",
       "<tr>\n",
       "  <th>count_keyword</th>            <td>    0.0350</td> <td>    0.007</td> <td>    5.019</td> <td> 0.000</td> <td>    0.021     0.049</td>\n",
       "</tr>\n",
       "</table>\n",
       "<table class=\"simpletable\">\n",
       "<tr>\n",
       "  <th>Omnibus:</th>       <td>16.834</td> <th>  Durbin-Watson:     </th> <td>   2.101</td>\n",
       "</tr>\n",
       "<tr>\n",
       "  <th>Prob(Omnibus):</th> <td> 0.000</td> <th>  Jarque-Bera (JB):  </th> <td>  32.093</td>\n",
       "</tr>\n",
       "<tr>\n",
       "  <th>Skew:</th>          <td>-0.113</td> <th>  Prob(JB):          </th> <td>1.07e-07</td>\n",
       "</tr>\n",
       "<tr>\n",
       "  <th>Kurtosis:</th>      <td> 4.076</td> <th>  Cond. No.          </th> <td>    28.2</td>\n",
       "</tr>\n",
       "</table>"
      ],
      "text/plain": [
       "<class 'statsmodels.iolib.summary.Summary'>\n",
       "\"\"\"\n",
       "                               OLS Regression Results                              \n",
       "===================================================================================\n",
       "Dep. Variable:     np.log(unique_users_ip)   R-squared:                       0.884\n",
       "Model:                                 OLS   Adj. R-squared:                  0.882\n",
       "Method:                      Least Squares   F-statistic:                     598.0\n",
       "Date:                     Tue, 31 May 2016   Prob (F-statistic):          3.69e-288\n",
       "Time:                             13:04:57   Log-Likelihood:                -1074.5\n",
       "No. Observations:                      637   AIC:                             2165.\n",
       "Df Residuals:                          629   BIC:                             2201.\n",
       "Df Model:                                8                                         \n",
       "Covariance Type:                 nonrobust                                         \n",
       "============================================================================================\n",
       "                               coef    std err          t      P>|t|      [95.0% Conf. Int.]\n",
       "--------------------------------------------------------------------------------------------\n",
       "count_data_format            0.3693      0.058      6.345      0.000         0.255     0.484\n",
       "count_contributors           0.2391      0.031      7.640      0.000         0.178     0.301\n",
       "count_platforms              0.1894      0.036      5.223      0.000         0.118     0.261\n",
       "count_sensors                0.0101      0.031      0.326      0.745        -0.051     0.071\n",
       "count_spatial_coverage       1.0941      0.103     10.629      0.000         0.892     1.296\n",
       "count_spatial_resolution     0.0269      0.097      0.277      0.782        -0.164     0.217\n",
       "count_locations              0.1870      0.033      5.613      0.000         0.122     0.252\n",
       "count_keyword                0.0350      0.007      5.019      0.000         0.021     0.049\n",
       "==============================================================================\n",
       "Omnibus:                       16.834   Durbin-Watson:                   2.101\n",
       "Prob(Omnibus):                  0.000   Jarque-Bera (JB):               32.093\n",
       "Skew:                          -0.113   Prob(JB):                     1.07e-07\n",
       "Kurtosis:                       4.076   Cond. No.                         28.2\n",
       "==============================================================================\n",
       "\n",
       "Warnings:\n",
       "[1] Standard Errors assume that the covariance matrix of the errors is correctly specified.\n",
       "\"\"\""
      ]
     },
     "execution_count": 28,
     "metadata": {},
     "output_type": "execute_result"
    }
   ],
   "source": [
    "# Output results of linear regression\n",
    "nsidc_lr.summary()"
   ]
  },
  {
   "cell_type": "code",
   "execution_count": 29,
   "metadata": {
    "collapsed": false
   },
   "outputs": [
    {
     "data": {
      "text/plain": [
       "count_data_format           4.242556e-10\n",
       "count_contributors          8.105154e-14\n",
       "count_platforms             2.392165e-07\n",
       "count_sensors               7.445888e-01\n",
       "count_spatial_coverage      2.212030e-24\n",
       "count_spatial_resolution    7.818940e-01\n",
       "count_locations             2.990326e-08\n",
       "count_keyword               6.767895e-07\n",
       "dtype: float64"
      ]
     },
     "execution_count": 29,
     "metadata": {},
     "output_type": "execute_result"
    }
   ],
   "source": [
    "nsidc_lr.pvalues"
   ]
  },
  {
   "cell_type": "code",
   "execution_count": 30,
   "metadata": {
    "collapsed": false
   },
   "outputs": [
    {
     "data": {
      "text/plain": [
       "1.4201439038840145"
      ]
     },
     "execution_count": 30,
     "metadata": {},
     "output_type": "execute_result"
    }
   ],
   "source": [
    "# Calculate the RMSE of the testing actual (log10) values versus predicted values\n",
    "np.sqrt(mean_squared_error(np.log(nsidc_test['unique_users_ip']), nsidc_test_pred))"
   ]
  },
  {
   "cell_type": "code",
   "execution_count": 31,
   "metadata": {
    "collapsed": false
   },
   "outputs": [
    {
     "data": {
      "text/plain": [
       "1.3071885414525652"
      ]
     },
     "execution_count": 31,
     "metadata": {},
     "output_type": "execute_result"
    }
   ],
   "source": [
    "# Calculate the RMSE of the training actual (log10) values versus predicted values\n",
    "np.sqrt(mean_squared_error(np.log(nsidc_train['unique_users_ip']), nsidc_train_pred))"
   ]
  },
  {
   "cell_type": "markdown",
   "metadata": {},
   "source": [
    "The above linear regression shows that count_sensors and count_spatial_resolution do not have a ststistically significant relationship to unique_users_ip. I will run a linear model without count_seonsors:"
   ]
  },
  {
   "cell_type": "code",
   "execution_count": 32,
   "metadata": {
    "collapsed": true
   },
   "outputs": [],
   "source": [
    "# Run linear regression with natural log of unique_users_ip as the dependent/target variable\n",
    "nsidc_lr2 = smf.ols(formula=\n",
    "                   'np.log(unique_users_ip) ~ -1 + count_data_format + count_contributors + count_platforms + count_spatial_coverage + count_spatial_resolution + count_locations + count_keyword',\n",
    "                   data=nsidc_train).fit()\n",
    "# Create an array of predictions for the training and testing data\n",
    "nsidc_train_pred2 = nsidc_lr2.predict(nsidc_train)\n",
    "nsidc_test_pred2 = nsidc_lr2.predict(nsidc_test)"
   ]
  },
  {
   "cell_type": "code",
   "execution_count": 33,
   "metadata": {
    "collapsed": false
   },
   "outputs": [
    {
     "data": {
      "text/html": [
       "<table class=\"simpletable\">\n",
       "<caption>OLS Regression Results</caption>\n",
       "<tr>\n",
       "  <th>Dep. Variable:</th>    <td>np.log(unique_users_ip)</td> <th>  R-squared:         </th> <td>   0.884</td> \n",
       "</tr>\n",
       "<tr>\n",
       "  <th>Model:</th>                      <td>OLS</td>           <th>  Adj. R-squared:    </th> <td>   0.882</td> \n",
       "</tr>\n",
       "<tr>\n",
       "  <th>Method:</th>                <td>Least Squares</td>      <th>  F-statistic:       </th> <td>   684.4</td> \n",
       "</tr>\n",
       "<tr>\n",
       "  <th>Date:</th>                <td>Tue, 31 May 2016</td>     <th>  Prob (F-statistic):</th> <td>1.43e-289</td>\n",
       "</tr>\n",
       "<tr>\n",
       "  <th>Time:</th>                    <td>13:04:57</td>         <th>  Log-Likelihood:    </th> <td> -1074.6</td> \n",
       "</tr>\n",
       "<tr>\n",
       "  <th>No. Observations:</th>         <td>   637</td>          <th>  AIC:               </th> <td>   2163.</td> \n",
       "</tr>\n",
       "<tr>\n",
       "  <th>Df Residuals:</th>             <td>   630</td>          <th>  BIC:               </th> <td>   2194.</td> \n",
       "</tr>\n",
       "<tr>\n",
       "  <th>Df Model:</th>                 <td>     7</td>          <th>                     </th>     <td> </td>    \n",
       "</tr>\n",
       "<tr>\n",
       "  <th>Covariance Type:</th>         <td>nonrobust</td>        <th>                     </th>     <td> </td>    \n",
       "</tr>\n",
       "</table>\n",
       "<table class=\"simpletable\">\n",
       "<tr>\n",
       "              <td></td>                <th>coef</th>     <th>std err</th>      <th>t</th>      <th>P>|t|</th> <th>[95.0% Conf. Int.]</th> \n",
       "</tr>\n",
       "<tr>\n",
       "  <th>count_data_format</th>        <td>    0.3693</td> <td>    0.058</td> <td>    6.351</td> <td> 0.000</td> <td>    0.255     0.484</td>\n",
       "</tr>\n",
       "<tr>\n",
       "  <th>count_contributors</th>       <td>    0.2401</td> <td>    0.031</td> <td>    7.719</td> <td> 0.000</td> <td>    0.179     0.301</td>\n",
       "</tr>\n",
       "<tr>\n",
       "  <th>count_platforms</th>          <td>    0.1947</td> <td>    0.032</td> <td>    6.005</td> <td> 0.000</td> <td>    0.131     0.258</td>\n",
       "</tr>\n",
       "<tr>\n",
       "  <th>count_spatial_coverage</th>   <td>    1.0918</td> <td>    0.103</td> <td>   10.639</td> <td> 0.000</td> <td>    0.890     1.293</td>\n",
       "</tr>\n",
       "<tr>\n",
       "  <th>count_spatial_resolution</th> <td>    0.0245</td> <td>    0.097</td> <td>    0.253</td> <td> 0.800</td> <td>   -0.165     0.214</td>\n",
       "</tr>\n",
       "<tr>\n",
       "  <th>count_locations</th>          <td>    0.1878</td> <td>    0.033</td> <td>    5.656</td> <td> 0.000</td> <td>    0.123     0.253</td>\n",
       "</tr>\n",
       "<tr>\n",
       "  <th>count_keyword</th>            <td>    0.0356</td> <td>    0.007</td> <td>    5.326</td> <td> 0.000</td> <td>    0.022     0.049</td>\n",
       "</tr>\n",
       "</table>\n",
       "<table class=\"simpletable\">\n",
       "<tr>\n",
       "  <th>Omnibus:</th>       <td>17.048</td> <th>  Durbin-Watson:     </th> <td>   2.104</td>\n",
       "</tr>\n",
       "<tr>\n",
       "  <th>Prob(Omnibus):</th> <td> 0.000</td> <th>  Jarque-Bera (JB):  </th> <td>  32.512</td>\n",
       "</tr>\n",
       "<tr>\n",
       "  <th>Skew:</th>          <td>-0.117</td> <th>  Prob(JB):          </th> <td>8.71e-08</td>\n",
       "</tr>\n",
       "<tr>\n",
       "  <th>Kurtosis:</th>      <td> 4.082</td> <th>  Cond. No.          </th> <td>    28.0</td>\n",
       "</tr>\n",
       "</table>"
      ],
      "text/plain": [
       "<class 'statsmodels.iolib.summary.Summary'>\n",
       "\"\"\"\n",
       "                               OLS Regression Results                              \n",
       "===================================================================================\n",
       "Dep. Variable:     np.log(unique_users_ip)   R-squared:                       0.884\n",
       "Model:                                 OLS   Adj. R-squared:                  0.882\n",
       "Method:                      Least Squares   F-statistic:                     684.4\n",
       "Date:                     Tue, 31 May 2016   Prob (F-statistic):          1.43e-289\n",
       "Time:                             13:04:57   Log-Likelihood:                -1074.6\n",
       "No. Observations:                      637   AIC:                             2163.\n",
       "Df Residuals:                          630   BIC:                             2194.\n",
       "Df Model:                                7                                         \n",
       "Covariance Type:                 nonrobust                                         \n",
       "============================================================================================\n",
       "                               coef    std err          t      P>|t|      [95.0% Conf. Int.]\n",
       "--------------------------------------------------------------------------------------------\n",
       "count_data_format            0.3693      0.058      6.351      0.000         0.255     0.484\n",
       "count_contributors           0.2401      0.031      7.719      0.000         0.179     0.301\n",
       "count_platforms              0.1947      0.032      6.005      0.000         0.131     0.258\n",
       "count_spatial_coverage       1.0918      0.103     10.639      0.000         0.890     1.293\n",
       "count_spatial_resolution     0.0245      0.097      0.253      0.800        -0.165     0.214\n",
       "count_locations              0.1878      0.033      5.656      0.000         0.123     0.253\n",
       "count_keyword                0.0356      0.007      5.326      0.000         0.022     0.049\n",
       "==============================================================================\n",
       "Omnibus:                       17.048   Durbin-Watson:                   2.104\n",
       "Prob(Omnibus):                  0.000   Jarque-Bera (JB):               32.512\n",
       "Skew:                          -0.117   Prob(JB):                     8.71e-08\n",
       "Kurtosis:                       4.082   Cond. No.                         28.0\n",
       "==============================================================================\n",
       "\n",
       "Warnings:\n",
       "[1] Standard Errors assume that the covariance matrix of the errors is correctly specified.\n",
       "\"\"\""
      ]
     },
     "execution_count": 33,
     "metadata": {},
     "output_type": "execute_result"
    }
   ],
   "source": [
    "# Output results of linear regression\n",
    "nsidc_lr2.summary()"
   ]
  },
  {
   "cell_type": "code",
   "execution_count": 34,
   "metadata": {
    "collapsed": false
   },
   "outputs": [
    {
     "data": {
      "text/plain": [
       "count_data_format           4.098764e-10\n",
       "count_contributors          4.607525e-14\n",
       "count_platforms             3.230500e-09\n",
       "count_spatial_coverage      2.002456e-24\n",
       "count_spatial_resolution    8.001529e-01\n",
       "count_locations             2.345658e-08\n",
       "count_keyword               1.400702e-07\n",
       "dtype: float64"
      ]
     },
     "execution_count": 34,
     "metadata": {},
     "output_type": "execute_result"
    }
   ],
   "source": [
    "nsidc_lr2.pvalues"
   ]
  },
  {
   "cell_type": "code",
   "execution_count": 35,
   "metadata": {
    "collapsed": false
   },
   "outputs": [
    {
     "data": {
      "text/plain": [
       "1.4203701537881792"
      ]
     },
     "execution_count": 35,
     "metadata": {},
     "output_type": "execute_result"
    }
   ],
   "source": [
    "# Calculate the RMSE of the testing actual (log10) values versus predicted values\n",
    "np.sqrt(mean_squared_error(np.log(nsidc_test['unique_users_ip']), nsidc_test_pred2))"
   ]
  },
  {
   "cell_type": "markdown",
   "metadata": {},
   "source": [
    "The RMSE of the test data was only slightly higher when removing count_sensors and the model is simpler. I will try removing count_spatial_resolution also:"
   ]
  },
  {
   "cell_type": "code",
   "execution_count": 36,
   "metadata": {
    "collapsed": true
   },
   "outputs": [],
   "source": [
    "# Run linear regression with natural log of unique_users_ip as the dependent/target variable\n",
    "nsidc_lr3 = smf.ols(formula=\n",
    "                   'np.log(unique_users_ip) ~ -1 + count_data_format + count_contributors + count_platforms + count_spatial_coverage + count_locations + count_keyword',\n",
    "                   data=nsidc_train).fit()\n",
    "# Create an array of predictions for the training and testing data\n",
    "nsidc_train_pred3 = nsidc_lr3.predict(nsidc_train)\n",
    "nsidc_test_pred3 = nsidc_lr3.predict(nsidc_test)"
   ]
  },
  {
   "cell_type": "code",
   "execution_count": 37,
   "metadata": {
    "collapsed": false
   },
   "outputs": [
    {
     "data": {
      "text/html": [
       "<table class=\"simpletable\">\n",
       "<caption>OLS Regression Results</caption>\n",
       "<tr>\n",
       "  <th>Dep. Variable:</th>    <td>np.log(unique_users_ip)</td> <th>  R-squared:         </th> <td>   0.884</td> \n",
       "</tr>\n",
       "<tr>\n",
       "  <th>Model:</th>                      <td>OLS</td>           <th>  Adj. R-squared:    </th> <td>   0.883</td> \n",
       "</tr>\n",
       "<tr>\n",
       "  <th>Method:</th>                <td>Least Squares</td>      <th>  F-statistic:       </th> <td>   799.7</td> \n",
       "</tr>\n",
       "<tr>\n",
       "  <th>Date:</th>                <td>Tue, 31 May 2016</td>     <th>  Prob (F-statistic):</th> <td>5.02e-291</td>\n",
       "</tr>\n",
       "<tr>\n",
       "  <th>Time:</th>                    <td>13:04:58</td>         <th>  Log-Likelihood:    </th> <td> -1074.6</td> \n",
       "</tr>\n",
       "<tr>\n",
       "  <th>No. Observations:</th>         <td>   637</td>          <th>  AIC:               </th> <td>   2161.</td> \n",
       "</tr>\n",
       "<tr>\n",
       "  <th>Df Residuals:</th>             <td>   631</td>          <th>  BIC:               </th> <td>   2188.</td> \n",
       "</tr>\n",
       "<tr>\n",
       "  <th>Df Model:</th>                 <td>     6</td>          <th>                     </th>     <td> </td>    \n",
       "</tr>\n",
       "<tr>\n",
       "  <th>Covariance Type:</th>         <td>nonrobust</td>        <th>                     </th>     <td> </td>    \n",
       "</tr>\n",
       "</table>\n",
       "<table class=\"simpletable\">\n",
       "<tr>\n",
       "             <td></td>               <th>coef</th>     <th>std err</th>      <th>t</th>      <th>P>|t|</th> <th>[95.0% Conf. Int.]</th> \n",
       "</tr>\n",
       "<tr>\n",
       "  <th>count_data_format</th>      <td>    0.3710</td> <td>    0.058</td> <td>    6.430</td> <td> 0.000</td> <td>    0.258     0.484</td>\n",
       "</tr>\n",
       "<tr>\n",
       "  <th>count_contributors</th>     <td>    0.2417</td> <td>    0.030</td> <td>    7.937</td> <td> 0.000</td> <td>    0.182     0.302</td>\n",
       "</tr>\n",
       "<tr>\n",
       "  <th>count_platforms</th>        <td>    0.1962</td> <td>    0.032</td> <td>    6.153</td> <td> 0.000</td> <td>    0.134     0.259</td>\n",
       "</tr>\n",
       "<tr>\n",
       "  <th>count_spatial_coverage</th> <td>    1.0958</td> <td>    0.101</td> <td>   10.812</td> <td> 0.000</td> <td>    0.897     1.295</td>\n",
       "</tr>\n",
       "<tr>\n",
       "  <th>count_locations</th>        <td>    0.1864</td> <td>    0.033</td> <td>    5.697</td> <td> 0.000</td> <td>    0.122     0.251</td>\n",
       "</tr>\n",
       "<tr>\n",
       "  <th>count_keyword</th>          <td>    0.0356</td> <td>    0.007</td> <td>    5.324</td> <td> 0.000</td> <td>    0.022     0.049</td>\n",
       "</tr>\n",
       "</table>\n",
       "<table class=\"simpletable\">\n",
       "<tr>\n",
       "  <th>Omnibus:</th>       <td>17.142</td> <th>  Durbin-Watson:     </th> <td>   2.105</td>\n",
       "</tr>\n",
       "<tr>\n",
       "  <th>Prob(Omnibus):</th> <td> 0.000</td> <th>  Jarque-Bera (JB):  </th> <td>  32.946</td>\n",
       "</tr>\n",
       "<tr>\n",
       "  <th>Skew:</th>          <td>-0.114</td> <th>  Prob(JB):          </th> <td>7.01e-08</td>\n",
       "</tr>\n",
       "<tr>\n",
       "  <th>Kurtosis:</th>      <td> 4.091</td> <th>  Cond. No.          </th> <td>    26.8</td>\n",
       "</tr>\n",
       "</table>"
      ],
      "text/plain": [
       "<class 'statsmodels.iolib.summary.Summary'>\n",
       "\"\"\"\n",
       "                               OLS Regression Results                              \n",
       "===================================================================================\n",
       "Dep. Variable:     np.log(unique_users_ip)   R-squared:                       0.884\n",
       "Model:                                 OLS   Adj. R-squared:                  0.883\n",
       "Method:                      Least Squares   F-statistic:                     799.7\n",
       "Date:                     Tue, 31 May 2016   Prob (F-statistic):          5.02e-291\n",
       "Time:                             13:04:58   Log-Likelihood:                -1074.6\n",
       "No. Observations:                      637   AIC:                             2161.\n",
       "Df Residuals:                          631   BIC:                             2188.\n",
       "Df Model:                                6                                         \n",
       "Covariance Type:                 nonrobust                                         \n",
       "==========================================================================================\n",
       "                             coef    std err          t      P>|t|      [95.0% Conf. Int.]\n",
       "------------------------------------------------------------------------------------------\n",
       "count_data_format          0.3710      0.058      6.430      0.000         0.258     0.484\n",
       "count_contributors         0.2417      0.030      7.937      0.000         0.182     0.302\n",
       "count_platforms            0.1962      0.032      6.153      0.000         0.134     0.259\n",
       "count_spatial_coverage     1.0958      0.101     10.812      0.000         0.897     1.295\n",
       "count_locations            0.1864      0.033      5.697      0.000         0.122     0.251\n",
       "count_keyword              0.0356      0.007      5.324      0.000         0.022     0.049\n",
       "==============================================================================\n",
       "Omnibus:                       17.142   Durbin-Watson:                   2.105\n",
       "Prob(Omnibus):                  0.000   Jarque-Bera (JB):               32.946\n",
       "Skew:                          -0.114   Prob(JB):                     7.01e-08\n",
       "Kurtosis:                       4.091   Cond. No.                         26.8\n",
       "==============================================================================\n",
       "\n",
       "Warnings:\n",
       "[1] Standard Errors assume that the covariance matrix of the errors is correctly specified.\n",
       "\"\"\""
      ]
     },
     "execution_count": 37,
     "metadata": {},
     "output_type": "execute_result"
    }
   ],
   "source": [
    "# Output results of linear regression\n",
    "nsidc_lr3.summary()"
   ]
  },
  {
   "cell_type": "code",
   "execution_count": 38,
   "metadata": {
    "collapsed": false
   },
   "outputs": [
    {
     "data": {
      "text/plain": [
       "count_data_format         2.517681e-10\n",
       "count_contributors        9.482735e-15\n",
       "count_platforms           1.349885e-09\n",
       "count_spatial_coverage    4.114819e-25\n",
       "count_locations           1.875876e-08\n",
       "count_keyword             1.410781e-07\n",
       "dtype: float64"
      ]
     },
     "execution_count": 38,
     "metadata": {},
     "output_type": "execute_result"
    }
   ],
   "source": [
    "nsidc_lr3.pvalues"
   ]
  },
  {
   "cell_type": "code",
   "execution_count": 39,
   "metadata": {
    "collapsed": false
   },
   "outputs": [
    {
     "data": {
      "text/plain": [
       "1.4208014385016889"
      ]
     },
     "execution_count": 39,
     "metadata": {},
     "output_type": "execute_result"
    }
   ],
   "source": [
    "# Calculate the RMSE of the testing actual (log10) values versus predicted values\n",
    "np.sqrt(mean_squared_error(np.log(nsidc_test['unique_users_ip']), nsidc_test_pred3))"
   ]
  },
  {
   "cell_type": "markdown",
   "metadata": {},
   "source": [
    "The RMSE on the model above is still only slightly higher. This looks like a good linear model with a high adjusted R-squared and all features are statistically significant in their relationship to unique_users_ip."
   ]
  },
  {
   "cell_type": "code",
   "execution_count": 40,
   "metadata": {
    "collapsed": true
   },
   "outputs": [],
   "source": [
    "# Run linear regression with natural log of unique_users_ip as the dependent/target variable\n",
    "nsidc_lr4 = smf.ols(formula=\n",
    "                   'np.log(unique_users_ip) ~ -1 + count_data_format + count_contributors + count_platforms + count_keyword + C(citation_date_clean)',\n",
    "                   data=nsidc_train).fit()\n",
    "# Create an array of predictions for the training and testing data\n",
    "nsidc_train_pred4 = nsidc_lr4.predict(nsidc_train)\n",
    "nsidc_test_pred4 = nsidc_lr4.predict(nsidc_test)"
   ]
  },
  {
   "cell_type": "code",
   "execution_count": 41,
   "metadata": {
    "collapsed": false
   },
   "outputs": [
    {
     "data": {
      "text/html": [
       "<table class=\"simpletable\">\n",
       "<caption>OLS Regression Results</caption>\n",
       "<tr>\n",
       "  <th>Dep. Variable:</th>    <td>np.log(unique_users_ip)</td> <th>  R-squared:         </th> <td>   0.311</td>\n",
       "</tr>\n",
       "<tr>\n",
       "  <th>Model:</th>                      <td>OLS</td>           <th>  Adj. R-squared:    </th> <td>   0.277</td>\n",
       "</tr>\n",
       "<tr>\n",
       "  <th>Method:</th>                <td>Least Squares</td>      <th>  F-statistic:       </th> <td>   9.126</td>\n",
       "</tr>\n",
       "<tr>\n",
       "  <th>Date:</th>                <td>Tue, 31 May 2016</td>     <th>  Prob (F-statistic):</th> <td>6.91e-33</td>\n",
       "</tr>\n",
       "<tr>\n",
       "  <th>Time:</th>                    <td>13:04:58</td>         <th>  Log-Likelihood:    </th> <td> -894.11</td>\n",
       "</tr>\n",
       "<tr>\n",
       "  <th>No. Observations:</th>         <td>   637</td>          <th>  AIC:               </th> <td>   1850.</td>\n",
       "</tr>\n",
       "<tr>\n",
       "  <th>Df Residuals:</th>             <td>   606</td>          <th>  BIC:               </th> <td>   1988.</td>\n",
       "</tr>\n",
       "<tr>\n",
       "  <th>Df Model:</th>                 <td>    30</td>          <th>                     </th>     <td> </td>   \n",
       "</tr>\n",
       "<tr>\n",
       "  <th>Covariance Type:</th>         <td>nonrobust</td>        <th>                     </th>     <td> </td>   \n",
       "</tr>\n",
       "</table>\n",
       "<table class=\"simpletable\">\n",
       "<tr>\n",
       "                 <td></td>                   <th>coef</th>     <th>std err</th>      <th>t</th>      <th>P>|t|</th> <th>[95.0% Conf. Int.]</th> \n",
       "</tr>\n",
       "<tr>\n",
       "  <th>C(citation_date_clean)[1983.0]</th> <td>    2.9411</td> <td>    0.721</td> <td>    4.077</td> <td> 0.000</td> <td>    1.524     4.358</td>\n",
       "</tr>\n",
       "<tr>\n",
       "  <th>C(citation_date_clean)[1984.0]</th> <td>-8.367e-14</td> <td> 1.56e-14</td> <td>   -5.378</td> <td> 0.000</td> <td>-1.14e-13 -5.31e-14</td>\n",
       "</tr>\n",
       "<tr>\n",
       "  <th>C(citation_date_clean)[1988.0]</th> <td>    4.3765</td> <td>    1.016</td> <td>    4.308</td> <td> 0.000</td> <td>    2.381     6.372</td>\n",
       "</tr>\n",
       "<tr>\n",
       "  <th>C(citation_date_clean)[1991.0]</th> <td>    4.7402</td> <td>    1.011</td> <td>    4.687</td> <td> 0.000</td> <td>    2.754     6.726</td>\n",
       "</tr>\n",
       "<tr>\n",
       "  <th>C(citation_date_clean)[1992.0]</th> <td>    3.6468</td> <td>    0.589</td> <td>    6.193</td> <td> 0.000</td> <td>    2.490     4.803</td>\n",
       "</tr>\n",
       "<tr>\n",
       "  <th>C(citation_date_clean)[1994.0]</th> <td>    4.3283</td> <td>    1.023</td> <td>    4.232</td> <td> 0.000</td> <td>    2.320     6.337</td>\n",
       "</tr>\n",
       "<tr>\n",
       "  <th>C(citation_date_clean)[1995.0]</th> <td>    3.7574</td> <td>    0.360</td> <td>   10.427</td> <td> 0.000</td> <td>    3.050     4.465</td>\n",
       "</tr>\n",
       "<tr>\n",
       "  <th>C(citation_date_clean)[1996.0]</th> <td>    4.7225</td> <td>    0.732</td> <td>    6.452</td> <td> 0.000</td> <td>    3.285     6.160</td>\n",
       "</tr>\n",
       "<tr>\n",
       "  <th>C(citation_date_clean)[1997.0]</th> <td>    2.6259</td> <td>    0.421</td> <td>    6.239</td> <td> 0.000</td> <td>    1.799     3.453</td>\n",
       "</tr>\n",
       "<tr>\n",
       "  <th>C(citation_date_clean)[1998.0]</th> <td>    3.1623</td> <td>    0.180</td> <td>   17.525</td> <td> 0.000</td> <td>    2.808     3.517</td>\n",
       "</tr>\n",
       "<tr>\n",
       "  <th>C(citation_date_clean)[1999.0]</th> <td>    3.4871</td> <td>    0.333</td> <td>   10.485</td> <td> 0.000</td> <td>    2.834     4.140</td>\n",
       "</tr>\n",
       "<tr>\n",
       "  <th>C(citation_date_clean)[2000.0]</th> <td>    3.3666</td> <td>    0.426</td> <td>    7.901</td> <td> 0.000</td> <td>    2.530     4.203</td>\n",
       "</tr>\n",
       "<tr>\n",
       "  <th>C(citation_date_clean)[2001.0]</th> <td>    3.6542</td> <td>    0.394</td> <td>    9.275</td> <td> 0.000</td> <td>    2.880     4.428</td>\n",
       "</tr>\n",
       "<tr>\n",
       "  <th>C(citation_date_clean)[2002.0]</th> <td>    3.5891</td> <td>    0.224</td> <td>   16.015</td> <td> 0.000</td> <td>    3.149     4.029</td>\n",
       "</tr>\n",
       "<tr>\n",
       "  <th>C(citation_date_clean)[2003.0]</th> <td>    2.9141</td> <td>    0.155</td> <td>   18.796</td> <td> 0.000</td> <td>    2.610     3.219</td>\n",
       "</tr>\n",
       "<tr>\n",
       "  <th>C(citation_date_clean)[2004.0]</th> <td>    2.8958</td> <td>    0.180</td> <td>   16.050</td> <td> 0.000</td> <td>    2.541     3.250</td>\n",
       "</tr>\n",
       "<tr>\n",
       "  <th>C(citation_date_clean)[2005.0]</th> <td>    2.4589</td> <td>    0.291</td> <td>    8.451</td> <td> 0.000</td> <td>    1.887     3.030</td>\n",
       "</tr>\n",
       "<tr>\n",
       "  <th>C(citation_date_clean)[2006.0]</th> <td>    3.4886</td> <td>    0.224</td> <td>   15.581</td> <td> 0.000</td> <td>    3.049     3.928</td>\n",
       "</tr>\n",
       "<tr>\n",
       "  <th>C(citation_date_clean)[2007.0]</th> <td>    2.8078</td> <td>    0.238</td> <td>   11.789</td> <td> 0.000</td> <td>    2.340     3.276</td>\n",
       "</tr>\n",
       "<tr>\n",
       "  <th>C(citation_date_clean)[2008.0]</th> <td>    2.6982</td> <td>    0.230</td> <td>   11.707</td> <td> 0.000</td> <td>    2.246     3.151</td>\n",
       "</tr>\n",
       "<tr>\n",
       "  <th>C(citation_date_clean)[2009.0]</th> <td>    2.6167</td> <td>    0.174</td> <td>   15.080</td> <td> 0.000</td> <td>    2.276     2.957</td>\n",
       "</tr>\n",
       "<tr>\n",
       "  <th>C(citation_date_clean)[2010.0]</th> <td>    2.7180</td> <td>    0.201</td> <td>   13.547</td> <td> 0.000</td> <td>    2.324     3.112</td>\n",
       "</tr>\n",
       "<tr>\n",
       "  <th>C(citation_date_clean)[2011.0]</th> <td>    2.5990</td> <td>    0.227</td> <td>   11.470</td> <td> 0.000</td> <td>    2.154     3.044</td>\n",
       "</tr>\n",
       "<tr>\n",
       "  <th>C(citation_date_clean)[2012.0]</th> <td>    2.9447</td> <td>    0.292</td> <td>   10.092</td> <td> 0.000</td> <td>    2.372     3.518</td>\n",
       "</tr>\n",
       "<tr>\n",
       "  <th>C(citation_date_clean)[2013.0]</th> <td>    1.9419</td> <td>    0.173</td> <td>   11.235</td> <td> 0.000</td> <td>    1.602     2.281</td>\n",
       "</tr>\n",
       "<tr>\n",
       "  <th>C(citation_date_clean)[2014.0]</th> <td>    2.4009</td> <td>    0.173</td> <td>   13.853</td> <td> 0.000</td> <td>    2.061     2.741</td>\n",
       "</tr>\n",
       "<tr>\n",
       "  <th>C(citation_date_clean)[2015.0]</th> <td>    1.9928</td> <td>    0.160</td> <td>   12.460</td> <td> 0.000</td> <td>    1.679     2.307</td>\n",
       "</tr>\n",
       "<tr>\n",
       "  <th>C(citation_date_clean)[2016.0]</th> <td>    2.8574</td> <td>    0.283</td> <td>   10.103</td> <td> 0.000</td> <td>    2.302     3.413</td>\n",
       "</tr>\n",
       "<tr>\n",
       "  <th>count_data_format</th>              <td>    0.1754</td> <td>    0.049</td> <td>    3.547</td> <td> 0.000</td> <td>    0.078     0.273</td>\n",
       "</tr>\n",
       "<tr>\n",
       "  <th>count_contributors</th>             <td>    0.0740</td> <td>    0.028</td> <td>    2.664</td> <td> 0.008</td> <td>    0.019     0.129</td>\n",
       "</tr>\n",
       "<tr>\n",
       "  <th>count_platforms</th>                <td>    0.2063</td> <td>    0.026</td> <td>    8.015</td> <td> 0.000</td> <td>    0.156     0.257</td>\n",
       "</tr>\n",
       "<tr>\n",
       "  <th>count_keyword</th>                  <td>    0.0175</td> <td>    0.006</td> <td>    3.123</td> <td> 0.002</td> <td>    0.006     0.028</td>\n",
       "</tr>\n",
       "</table>\n",
       "<table class=\"simpletable\">\n",
       "<tr>\n",
       "  <th>Omnibus:</th>       <td>68.221</td> <th>  Durbin-Watson:     </th> <td>   2.006</td>\n",
       "</tr>\n",
       "<tr>\n",
       "  <th>Prob(Omnibus):</th> <td> 0.000</td> <th>  Jarque-Bera (JB):  </th> <td> 157.007</td>\n",
       "</tr>\n",
       "<tr>\n",
       "  <th>Skew:</th>          <td> 0.593</td> <th>  Prob(JB):          </th> <td>8.06e-35</td>\n",
       "</tr>\n",
       "<tr>\n",
       "  <th>Kurtosis:</th>      <td> 5.124</td> <th>  Cond. No.          </th> <td>1.14e+16</td>\n",
       "</tr>\n",
       "</table>"
      ],
      "text/plain": [
       "<class 'statsmodels.iolib.summary.Summary'>\n",
       "\"\"\"\n",
       "                               OLS Regression Results                              \n",
       "===================================================================================\n",
       "Dep. Variable:     np.log(unique_users_ip)   R-squared:                       0.311\n",
       "Model:                                 OLS   Adj. R-squared:                  0.277\n",
       "Method:                      Least Squares   F-statistic:                     9.126\n",
       "Date:                     Tue, 31 May 2016   Prob (F-statistic):           6.91e-33\n",
       "Time:                             13:04:58   Log-Likelihood:                -894.11\n",
       "No. Observations:                      637   AIC:                             1850.\n",
       "Df Residuals:                          606   BIC:                             1988.\n",
       "Df Model:                               30                                         \n",
       "Covariance Type:                 nonrobust                                         \n",
       "==================================================================================================\n",
       "                                     coef    std err          t      P>|t|      [95.0% Conf. Int.]\n",
       "--------------------------------------------------------------------------------------------------\n",
       "C(citation_date_clean)[1983.0]     2.9411      0.721      4.077      0.000         1.524     4.358\n",
       "C(citation_date_clean)[1984.0] -8.367e-14   1.56e-14     -5.378      0.000     -1.14e-13 -5.31e-14\n",
       "C(citation_date_clean)[1988.0]     4.3765      1.016      4.308      0.000         2.381     6.372\n",
       "C(citation_date_clean)[1991.0]     4.7402      1.011      4.687      0.000         2.754     6.726\n",
       "C(citation_date_clean)[1992.0]     3.6468      0.589      6.193      0.000         2.490     4.803\n",
       "C(citation_date_clean)[1994.0]     4.3283      1.023      4.232      0.000         2.320     6.337\n",
       "C(citation_date_clean)[1995.0]     3.7574      0.360     10.427      0.000         3.050     4.465\n",
       "C(citation_date_clean)[1996.0]     4.7225      0.732      6.452      0.000         3.285     6.160\n",
       "C(citation_date_clean)[1997.0]     2.6259      0.421      6.239      0.000         1.799     3.453\n",
       "C(citation_date_clean)[1998.0]     3.1623      0.180     17.525      0.000         2.808     3.517\n",
       "C(citation_date_clean)[1999.0]     3.4871      0.333     10.485      0.000         2.834     4.140\n",
       "C(citation_date_clean)[2000.0]     3.3666      0.426      7.901      0.000         2.530     4.203\n",
       "C(citation_date_clean)[2001.0]     3.6542      0.394      9.275      0.000         2.880     4.428\n",
       "C(citation_date_clean)[2002.0]     3.5891      0.224     16.015      0.000         3.149     4.029\n",
       "C(citation_date_clean)[2003.0]     2.9141      0.155     18.796      0.000         2.610     3.219\n",
       "C(citation_date_clean)[2004.0]     2.8958      0.180     16.050      0.000         2.541     3.250\n",
       "C(citation_date_clean)[2005.0]     2.4589      0.291      8.451      0.000         1.887     3.030\n",
       "C(citation_date_clean)[2006.0]     3.4886      0.224     15.581      0.000         3.049     3.928\n",
       "C(citation_date_clean)[2007.0]     2.8078      0.238     11.789      0.000         2.340     3.276\n",
       "C(citation_date_clean)[2008.0]     2.6982      0.230     11.707      0.000         2.246     3.151\n",
       "C(citation_date_clean)[2009.0]     2.6167      0.174     15.080      0.000         2.276     2.957\n",
       "C(citation_date_clean)[2010.0]     2.7180      0.201     13.547      0.000         2.324     3.112\n",
       "C(citation_date_clean)[2011.0]     2.5990      0.227     11.470      0.000         2.154     3.044\n",
       "C(citation_date_clean)[2012.0]     2.9447      0.292     10.092      0.000         2.372     3.518\n",
       "C(citation_date_clean)[2013.0]     1.9419      0.173     11.235      0.000         1.602     2.281\n",
       "C(citation_date_clean)[2014.0]     2.4009      0.173     13.853      0.000         2.061     2.741\n",
       "C(citation_date_clean)[2015.0]     1.9928      0.160     12.460      0.000         1.679     2.307\n",
       "C(citation_date_clean)[2016.0]     2.8574      0.283     10.103      0.000         2.302     3.413\n",
       "count_data_format                  0.1754      0.049      3.547      0.000         0.078     0.273\n",
       "count_contributors                 0.0740      0.028      2.664      0.008         0.019     0.129\n",
       "count_platforms                    0.2063      0.026      8.015      0.000         0.156     0.257\n",
       "count_keyword                      0.0175      0.006      3.123      0.002         0.006     0.028\n",
       "==============================================================================\n",
       "Omnibus:                       68.221   Durbin-Watson:                   2.006\n",
       "Prob(Omnibus):                  0.000   Jarque-Bera (JB):              157.007\n",
       "Skew:                           0.593   Prob(JB):                     8.06e-35\n",
       "Kurtosis:                       5.124   Cond. No.                     1.14e+16\n",
       "==============================================================================\n",
       "\n",
       "Warnings:\n",
       "[1] Standard Errors assume that the covariance matrix of the errors is correctly specified.\n",
       "[2] The smallest eigenvalue is 8.5e-28. This might indicate that there are\n",
       "strong multicollinearity problems or that the design matrix is singular.\n",
       "\"\"\""
      ]
     },
     "execution_count": 41,
     "metadata": {},
     "output_type": "execute_result"
    }
   ],
   "source": [
    "# Output results of linear regression\n",
    "nsidc_lr4.summary()"
   ]
  },
  {
   "cell_type": "code",
   "execution_count": 42,
   "metadata": {
    "collapsed": false
   },
   "outputs": [
    {
     "data": {
      "text/plain": [
       "C(citation_date_clean)[1983.0]    5.180690e-05\n",
       "C(citation_date_clean)[1984.0]    1.079456e-07\n",
       "C(citation_date_clean)[1988.0]    1.921379e-05\n",
       "C(citation_date_clean)[1991.0]    3.428281e-06\n",
       "C(citation_date_clean)[1992.0]    1.091676e-09\n",
       "C(citation_date_clean)[1994.0]    2.675702e-05\n",
       "C(citation_date_clean)[1995.0]    1.587840e-23\n",
       "C(citation_date_clean)[1996.0]    2.254767e-10\n",
       "C(citation_date_clean)[1997.0]    8.294835e-10\n",
       "C(citation_date_clean)[1998.0]    6.210551e-56\n",
       "C(citation_date_clean)[1999.0]    9.427533e-24\n",
       "C(citation_date_clean)[2000.0]    1.309116e-14\n",
       "C(citation_date_clean)[2001.0]    3.097338e-19\n",
       "C(citation_date_clean)[2002.0]    2.124825e-48\n",
       "C(citation_date_clean)[2003.0]    1.932465e-62\n",
       "C(citation_date_clean)[2004.0]    1.435540e-48\n",
       "C(citation_date_clean)[2005.0]    2.158359e-16\n",
       "C(citation_date_clean)[2006.0]    2.790683e-46\n",
       "C(citation_date_clean)[2007.0]    5.042582e-29\n",
       "C(citation_date_clean)[2008.0]    1.103739e-28\n",
       "C(citation_date_clean)[2009.0]    7.260191e-44\n",
       "C(citation_date_clean)[2010.0]    1.026754e-36\n",
       "C(citation_date_clean)[2011.0]    1.066909e-27\n",
       "C(citation_date_clean)[2012.0]    3.062377e-22\n",
       "C(citation_date_clean)[2013.0]    9.813542e-27\n",
       "C(citation_date_clean)[2014.0]    4.130774e-38\n",
       "C(citation_date_clean)[2015.0]    6.921112e-32\n",
       "C(citation_date_clean)[2016.0]    2.768895e-22\n",
       "count_data_format                 4.200681e-04\n",
       "count_contributors                7.935439e-03\n",
       "count_platforms                   5.676988e-15\n",
       "count_keyword                     1.875624e-03\n",
       "dtype: float64"
      ]
     },
     "execution_count": 42,
     "metadata": {},
     "output_type": "execute_result"
    }
   ],
   "source": [
    "nsidc_lr4.pvalues"
   ]
  },
  {
   "cell_type": "code",
   "execution_count": 43,
   "metadata": {
    "collapsed": false
   },
   "outputs": [
    {
     "data": {
      "text/plain": [
       "1.1221735062267086"
      ]
     },
     "execution_count": 43,
     "metadata": {},
     "output_type": "execute_result"
    }
   ],
   "source": [
    "# Calculate the RMSE of the testing actual (log10) values versus predicted values\n",
    "np.sqrt(mean_squared_error(np.log(nsidc_test['unique_users_ip']), nsidc_test_pred4))"
   ]
  },
  {
   "cell_type": "markdown",
   "metadata": {},
   "source": [
    "Out of curiosity, I will create a dataframe that excludes datasets that are updated daily (because daily updates likely results in higher download rate)."
   ]
  },
  {
   "cell_type": "code",
   "execution_count": 44,
   "metadata": {
    "collapsed": false
   },
   "outputs": [],
   "source": [
    "# Drop any rows where udpate_frequency is daily\n",
    "nsidc_dropdaily = nsidc_df.drop(nsidc_df[nsidc_df.update_frequency == 'daily'].index)"
   ]
  },
  {
   "cell_type": "code",
   "execution_count": 45,
   "metadata": {
    "collapsed": false
   },
   "outputs": [
    {
     "data": {
      "image/png": "[encoded data removed]",
      "text/plain": [
       "<matplotlib.figure.Figure at 0x10b9acf10>"
      ]
     },
     "metadata": {},
     "output_type": "display_data"
    }
   ],
   "source": [
    "# Plot the histogram of log of the target variable in the new dataframe\n",
    "plt.hist(np.log10(nsidc_dropdaily['unique_users_ip']), color='green')\n",
    "\n",
    "plt.savefig('Histogram_DropDailyUniqueUsers.jpg')"
   ]
  },
  {
   "cell_type": "code",
   "execution_count": 46,
   "metadata": {
    "collapsed": false
   },
   "outputs": [],
   "source": [
    "cnt_dataformat = collections.Counter()\n",
    "for word in nsidc_df['data_format_string']:\n",
    "    cnt_dataformat[word] += 1"
   ]
  },
  {
   "cell_type": "code",
   "execution_count": 47,
   "metadata": {
    "collapsed": false
   },
   "outputs": [
    {
     "data": {
      "text/plain": [
       "[(' txt  ', 240),\n",
       " (' binary  ', 68),\n",
       " (' microsoft-excel  ', 53),\n",
       " ('             not-specified          ', 47),\n",
       " (' hdf  ', 37),\n",
       " (' hdf-eos  ', 32),\n",
       " (' netcdf  ', 22),\n",
       " (' microsoft-excel txt  ', 21),\n",
       " (' hdf5  ', 18),\n",
       " (' geotiff  ', 15)]"
      ]
     },
     "execution_count": 47,
     "metadata": {},
     "output_type": "execute_result"
    }
   ],
   "source": [
    "cnt_dataformat.most_common(10)"
   ]
  },
  {
   "cell_type": "code",
   "execution_count": 48,
   "metadata": {
    "collapsed": true
   },
   "outputs": [],
   "source": [
    "cnt_sensors = collections.Counter()\n",
    "for word in nsidc_df['sensors_clean']:\n",
    "    cnt_sensors[word] += 1"
   ]
  },
  {
   "cell_type": "code",
   "execution_count": 49,
   "metadata": {
    "collapsed": false
   },
   "outputs": [
    {
     "data": {
      "text/plain": [
       "[('not specified', 131),\n",
       " ('cameras', 34),\n",
       " ('modis', 32),\n",
       " ('altimeters,glas', 30),\n",
       " ('amsr-e', 25),\n",
       " ('coring devices', 24),\n",
       " ('mass spectrometers', 14),\n",
       " ('aquarius_radiometer', 10),\n",
       " ('visual observations', 10),\n",
       " ('tm', 10)]"
      ]
     },
     "execution_count": 49,
     "metadata": {},
     "output_type": "execute_result"
    }
   ],
   "source": [
    "cnt_sensors.most_common(10)"
   ]
  },
  {
   "cell_type": "code",
   "execution_count": 50,
   "metadata": {
    "collapsed": true
   },
   "outputs": [],
   "source": [
    "# Set seed for reproducibility\n",
    "np.random.seed(6)\n",
    "# Split dataframe into test (20%) and train (80%)\n",
    "dropdaily_train, dropdaily_test = train_test_split(nsidc_df, test_size = 0.20)"
   ]
  },
  {
   "cell_type": "code",
   "execution_count": 51,
   "metadata": {
    "collapsed": true
   },
   "outputs": [],
   "source": [
    "# Run linear regression with natural log of unique_users_ip as the dependent/target variable\n",
    "dropdaily_lr = smf.ols(formula=\n",
    "                   'np.log10(unique_users_ip) ~ -1 + count_data_format + count_contributors + count_platforms + count_sensors + count_spatial_coverage + count_spatial_resolution + count_locations + count_keyword',\n",
    "                   data=dropdaily_train).fit()\n",
    "# Create an array of predictions for the training and testing data\n",
    "dropdaily_train_pred = dropdaily_lr.predict(dropdaily_train)\n",
    "dropdaily_test_pred = dropdaily_lr.predict(dropdaily_test)"
   ]
  },
  {
   "cell_type": "code",
   "execution_count": 52,
   "metadata": {
    "collapsed": false
   },
   "outputs": [
    {
     "data": {
      "text/html": [
       "<table class=\"simpletable\">\n",
       "<caption>OLS Regression Results</caption>\n",
       "<tr>\n",
       "  <th>Dep. Variable:</th>    <td>np.log10(unique_users_ip)</td> <th>  R-squared:         </th> <td>   0.882</td> \n",
       "</tr>\n",
       "<tr>\n",
       "  <th>Model:</th>                       <td>OLS</td>            <th>  Adj. R-squared:    </th> <td>   0.880</td> \n",
       "</tr>\n",
       "<tr>\n",
       "  <th>Method:</th>                 <td>Least Squares</td>       <th>  F-statistic:       </th> <td>   585.2</td> \n",
       "</tr>\n",
       "<tr>\n",
       "  <th>Date:</th>                 <td>Tue, 31 May 2016</td>      <th>  Prob (F-statistic):</th> <td>1.54e-285</td>\n",
       "</tr>\n",
       "<tr>\n",
       "  <th>Time:</th>                     <td>13:04:59</td>          <th>  Log-Likelihood:    </th> <td> -551.09</td> \n",
       "</tr>\n",
       "<tr>\n",
       "  <th>No. Observations:</th>          <td>   637</td>           <th>  AIC:               </th> <td>   1118.</td> \n",
       "</tr>\n",
       "<tr>\n",
       "  <th>Df Residuals:</th>              <td>   629</td>           <th>  BIC:               </th> <td>   1154.</td> \n",
       "</tr>\n",
       "<tr>\n",
       "  <th>Df Model:</th>                  <td>     8</td>           <th>                     </th>     <td> </td>    \n",
       "</tr>\n",
       "<tr>\n",
       "  <th>Covariance Type:</th>          <td>nonrobust</td>         <th>                     </th>     <td> </td>    \n",
       "</tr>\n",
       "</table>\n",
       "<table class=\"simpletable\">\n",
       "<tr>\n",
       "              <td></td>                <th>coef</th>     <th>std err</th>      <th>t</th>      <th>P>|t|</th> <th>[95.0% Conf. Int.]</th> \n",
       "</tr>\n",
       "<tr>\n",
       "  <th>count_data_format</th>        <td>    0.1803</td> <td>    0.027</td> <td>    6.618</td> <td> 0.000</td> <td>    0.127     0.234</td>\n",
       "</tr>\n",
       "<tr>\n",
       "  <th>count_contributors</th>       <td>    0.0970</td> <td>    0.013</td> <td>    7.331</td> <td> 0.000</td> <td>    0.071     0.123</td>\n",
       "</tr>\n",
       "<tr>\n",
       "  <th>count_platforms</th>          <td>    0.0627</td> <td>    0.016</td> <td>    3.858</td> <td> 0.000</td> <td>    0.031     0.095</td>\n",
       "</tr>\n",
       "<tr>\n",
       "  <th>count_sensors</th>            <td>    0.0170</td> <td>    0.014</td> <td>    1.235</td> <td> 0.217</td> <td>   -0.010     0.044</td>\n",
       "</tr>\n",
       "<tr>\n",
       "  <th>count_spatial_coverage</th>   <td>    0.4694</td> <td>    0.046</td> <td>   10.146</td> <td> 0.000</td> <td>    0.379     0.560</td>\n",
       "</tr>\n",
       "<tr>\n",
       "  <th>count_spatial_resolution</th> <td>    0.0329</td> <td>    0.043</td> <td>    0.768</td> <td> 0.443</td> <td>   -0.051     0.117</td>\n",
       "</tr>\n",
       "<tr>\n",
       "  <th>count_locations</th>          <td>    0.0720</td> <td>    0.015</td> <td>    4.767</td> <td> 0.000</td> <td>    0.042     0.102</td>\n",
       "</tr>\n",
       "<tr>\n",
       "  <th>count_keyword</th>            <td>    0.0163</td> <td>    0.003</td> <td>    5.366</td> <td> 0.000</td> <td>    0.010     0.022</td>\n",
       "</tr>\n",
       "</table>\n",
       "<table class=\"simpletable\">\n",
       "<tr>\n",
       "  <th>Omnibus:</th>       <td>17.121</td> <th>  Durbin-Watson:     </th> <td>   2.068</td>\n",
       "</tr>\n",
       "<tr>\n",
       "  <th>Prob(Omnibus):</th> <td> 0.000</td> <th>  Jarque-Bera (JB):  </th> <td>  26.531</td>\n",
       "</tr>\n",
       "<tr>\n",
       "  <th>Skew:</th>          <td>-0.216</td> <th>  Prob(JB):          </th> <td>1.73e-06</td>\n",
       "</tr>\n",
       "<tr>\n",
       "  <th>Kurtosis:</th>      <td> 3.901</td> <th>  Cond. No.          </th> <td>    29.2</td>\n",
       "</tr>\n",
       "</table>"
      ],
      "text/plain": [
       "<class 'statsmodels.iolib.summary.Summary'>\n",
       "\"\"\"\n",
       "                                OLS Regression Results                               \n",
       "=====================================================================================\n",
       "Dep. Variable:     np.log10(unique_users_ip)   R-squared:                       0.882\n",
       "Model:                                   OLS   Adj. R-squared:                  0.880\n",
       "Method:                        Least Squares   F-statistic:                     585.2\n",
       "Date:                       Tue, 31 May 2016   Prob (F-statistic):          1.54e-285\n",
       "Time:                               13:04:59   Log-Likelihood:                -551.09\n",
       "No. Observations:                        637   AIC:                             1118.\n",
       "Df Residuals:                            629   BIC:                             1154.\n",
       "Df Model:                                  8                                         \n",
       "Covariance Type:                   nonrobust                                         \n",
       "============================================================================================\n",
       "                               coef    std err          t      P>|t|      [95.0% Conf. Int.]\n",
       "--------------------------------------------------------------------------------------------\n",
       "count_data_format            0.1803      0.027      6.618      0.000         0.127     0.234\n",
       "count_contributors           0.0970      0.013      7.331      0.000         0.071     0.123\n",
       "count_platforms              0.0627      0.016      3.858      0.000         0.031     0.095\n",
       "count_sensors                0.0170      0.014      1.235      0.217        -0.010     0.044\n",
       "count_spatial_coverage       0.4694      0.046     10.146      0.000         0.379     0.560\n",
       "count_spatial_resolution     0.0329      0.043      0.768      0.443        -0.051     0.117\n",
       "count_locations              0.0720      0.015      4.767      0.000         0.042     0.102\n",
       "count_keyword                0.0163      0.003      5.366      0.000         0.010     0.022\n",
       "==============================================================================\n",
       "Omnibus:                       17.121   Durbin-Watson:                   2.068\n",
       "Prob(Omnibus):                  0.000   Jarque-Bera (JB):               26.531\n",
       "Skew:                          -0.216   Prob(JB):                     1.73e-06\n",
       "Kurtosis:                       3.901   Cond. No.                         29.2\n",
       "==============================================================================\n",
       "\n",
       "Warnings:\n",
       "[1] Standard Errors assume that the covariance matrix of the errors is correctly specified.\n",
       "\"\"\""
      ]
     },
     "execution_count": 52,
     "metadata": {},
     "output_type": "execute_result"
    }
   ],
   "source": [
    "# Output results of linear regression\n",
    "dropdaily_lr.summary()"
   ]
  },
  {
   "cell_type": "code",
   "execution_count": 53,
   "metadata": {
    "collapsed": false
   },
   "outputs": [
    {
     "data": {
      "text/plain": [
       "2.4361845165398974"
      ]
     },
     "execution_count": 53,
     "metadata": {},
     "output_type": "execute_result"
    }
   ],
   "source": [
    "# Calculate the RMSE of the testing actual (log10) values versus predicted values\n",
    "np.sqrt(mean_squared_error(np.log(dropdaily_test['unique_users_ip']), dropdaily_test_pred))"
   ]
  },
  {
   "cell_type": "code",
   "execution_count": 54,
   "metadata": {
    "collapsed": false
   },
   "outputs": [
    {
     "name": "stdout",
     "output_type": "stream",
     "text": [
      "[ True False  True False  True False False False]\n",
      "[1 2 1 6 1 3 4 5]\n"
     ]
    }
   ],
   "source": [
    "# Recursive Feature Elimination\n",
    "\n",
    "\n",
    "# Set y value equal to the natural lof of the unique_users_ip values in the training set\n",
    "y = np.log(nsidc_train.unique_users_ip)\n",
    "# Set the x value to selected columns from the training set\n",
    "x = nsidc_train[['count_data_format', 'count_contributors', 'count_platforms', 'count_sensors', \n",
    "                 'count_spatial_coverage', 'count_spatial_resolution', 'count_locations', 'count_keyword']]\n",
    "\n",
    "# create a linear regression model used to evaluate attributes\n",
    "model = LinearRegression()\n",
    "# create the RFE model and select the 3 strongest ttributes\n",
    "rfe = RFE(model, 3)\n",
    "# fit the model\n",
    "rfe = rfe.fit(x, y)\n",
    "# summarize the selection of the attributes\n",
    "print(rfe.support_)\n",
    "print(rfe.ranking_)"
   ]
  },
  {
   "cell_type": "code",
   "execution_count": 55,
   "metadata": {
    "collapsed": true
   },
   "outputs": [],
   "source": [
    "# Run linear regression using the features recommended by the RFE model in above code chunk\n",
    "nsidc_lr_rfe_3 = smf.ols(formula=\n",
    "                   'np.log(unique_users_ip) ~ -1 + count_data_format + count_platforms + count_spatial_coverage',\n",
    "                   data=nsidc_train).fit()\n",
    "# Create an array of predictions for the training and testing data\n",
    "nsidc_train_pred_rfe_3 = nsidc_lr_rfe_3.predict(nsidc_train)\n",
    "nsidc_test_pred_rfe_3 = nsidc_lr_rfe_3.predict(nsidc_test)"
   ]
  },
  {
   "cell_type": "code",
   "execution_count": 56,
   "metadata": {
    "collapsed": false
   },
   "outputs": [
    {
     "data": {
      "text/html": [
       "<table class=\"simpletable\">\n",
       "<caption>OLS Regression Results</caption>\n",
       "<tr>\n",
       "  <th>Dep. Variable:</th>    <td>np.log(unique_users_ip)</td> <th>  R-squared:         </th> <td>   0.852</td> \n",
       "</tr>\n",
       "<tr>\n",
       "  <th>Model:</th>                      <td>OLS</td>           <th>  Adj. R-squared:    </th> <td>   0.851</td> \n",
       "</tr>\n",
       "<tr>\n",
       "  <th>Method:</th>                <td>Least Squares</td>      <th>  F-statistic:       </th> <td>   1216.</td> \n",
       "</tr>\n",
       "<tr>\n",
       "  <th>Date:</th>                <td>Tue, 31 May 2016</td>     <th>  Prob (F-statistic):</th> <td>2.06e-262</td>\n",
       "</tr>\n",
       "<tr>\n",
       "  <th>Time:</th>                    <td>13:04:59</td>         <th>  Log-Likelihood:    </th> <td> -1151.7</td> \n",
       "</tr>\n",
       "<tr>\n",
       "  <th>No. Observations:</th>         <td>   637</td>          <th>  AIC:               </th> <td>   2309.</td> \n",
       "</tr>\n",
       "<tr>\n",
       "  <th>Df Residuals:</th>             <td>   634</td>          <th>  BIC:               </th> <td>   2323.</td> \n",
       "</tr>\n",
       "<tr>\n",
       "  <th>Df Model:</th>                 <td>     3</td>          <th>                     </th>     <td> </td>    \n",
       "</tr>\n",
       "<tr>\n",
       "  <th>Covariance Type:</th>         <td>nonrobust</td>        <th>                     </th>     <td> </td>    \n",
       "</tr>\n",
       "</table>\n",
       "<table class=\"simpletable\">\n",
       "<tr>\n",
       "             <td></td>               <th>coef</th>     <th>std err</th>      <th>t</th>      <th>P>|t|</th> <th>[95.0% Conf. Int.]</th> \n",
       "</tr>\n",
       "<tr>\n",
       "  <th>count_data_format</th>      <td>    0.5773</td> <td>    0.063</td> <td>    9.235</td> <td> 0.000</td> <td>    0.455     0.700</td>\n",
       "</tr>\n",
       "<tr>\n",
       "  <th>count_platforms</th>        <td>    0.2248</td> <td>    0.036</td> <td>    6.282</td> <td> 0.000</td> <td>    0.155     0.295</td>\n",
       "</tr>\n",
       "<tr>\n",
       "  <th>count_spatial_coverage</th> <td>    1.9613</td> <td>    0.082</td> <td>   23.963</td> <td> 0.000</td> <td>    1.801     2.122</td>\n",
       "</tr>\n",
       "</table>\n",
       "<table class=\"simpletable\">\n",
       "<tr>\n",
       "  <th>Omnibus:</th>       <td>73.952</td> <th>  Durbin-Watson:     </th> <td>   2.011</td>\n",
       "</tr>\n",
       "<tr>\n",
       "  <th>Prob(Omnibus):</th> <td> 0.000</td> <th>  Jarque-Bera (JB):  </th> <td> 183.516</td>\n",
       "</tr>\n",
       "<tr>\n",
       "  <th>Skew:</th>          <td>-0.615</td> <th>  Prob(JB):          </th> <td>1.41e-40</td>\n",
       "</tr>\n",
       "<tr>\n",
       "  <th>Kurtosis:</th>      <td> 5.324</td> <th>  Cond. No.          </th> <td>    4.44</td>\n",
       "</tr>\n",
       "</table>"
      ],
      "text/plain": [
       "<class 'statsmodels.iolib.summary.Summary'>\n",
       "\"\"\"\n",
       "                               OLS Regression Results                              \n",
       "===================================================================================\n",
       "Dep. Variable:     np.log(unique_users_ip)   R-squared:                       0.852\n",
       "Model:                                 OLS   Adj. R-squared:                  0.851\n",
       "Method:                      Least Squares   F-statistic:                     1216.\n",
       "Date:                     Tue, 31 May 2016   Prob (F-statistic):          2.06e-262\n",
       "Time:                             13:04:59   Log-Likelihood:                -1151.7\n",
       "No. Observations:                      637   AIC:                             2309.\n",
       "Df Residuals:                          634   BIC:                             2323.\n",
       "Df Model:                                3                                         \n",
       "Covariance Type:                 nonrobust                                         \n",
       "==========================================================================================\n",
       "                             coef    std err          t      P>|t|      [95.0% Conf. Int.]\n",
       "------------------------------------------------------------------------------------------\n",
       "count_data_format          0.5773      0.063      9.235      0.000         0.455     0.700\n",
       "count_platforms            0.2248      0.036      6.282      0.000         0.155     0.295\n",
       "count_spatial_coverage     1.9613      0.082     23.963      0.000         1.801     2.122\n",
       "==============================================================================\n",
       "Omnibus:                       73.952   Durbin-Watson:                   2.011\n",
       "Prob(Omnibus):                  0.000   Jarque-Bera (JB):              183.516\n",
       "Skew:                          -0.615   Prob(JB):                     1.41e-40\n",
       "Kurtosis:                       5.324   Cond. No.                         4.44\n",
       "==============================================================================\n",
       "\n",
       "Warnings:\n",
       "[1] Standard Errors assume that the covariance matrix of the errors is correctly specified.\n",
       "\"\"\""
      ]
     },
     "execution_count": 56,
     "metadata": {},
     "output_type": "execute_result"
    }
   ],
   "source": [
    "nsidc_lr_rfe_3.summary()"
   ]
  },
  {
   "cell_type": "code",
   "execution_count": 57,
   "metadata": {
    "collapsed": false
   },
   "outputs": [
    {
     "data": {
      "text/plain": [
       "1.5231409589026168"
      ]
     },
     "execution_count": 57,
     "metadata": {},
     "output_type": "execute_result"
    }
   ],
   "source": [
    "# Calculate the RMSE of the testing actual values versus predicted values\n",
    "np.sqrt(mean_squared_error(np.log(nsidc_test['unique_users_ip']), nsidc_test_pred_rfe_3))"
   ]
  },
  {
   "cell_type": "code",
   "execution_count": 58,
   "metadata": {
    "collapsed": false
   },
   "outputs": [
    {
     "data": {
      "text/plain": [
       "1.4756506790834407"
      ]
     },
     "execution_count": 58,
     "metadata": {},
     "output_type": "execute_result"
    }
   ],
   "source": [
    "# Calculate the RMSE of the testing actual values versus predicted values\n",
    "np.sqrt(mean_squared_error(np.log(nsidc_train['unique_users_ip']), nsidc_train_pred_rfe_3))"
   ]
  },
  {
   "cell_type": "code",
   "execution_count": 59,
   "metadata": {
    "collapsed": false
   },
   "outputs": [
    {
     "name": "stdout",
     "output_type": "stream",
     "text": [
      "Features sorted by their score:\n",
      "[(1.0, 'count_platforms'), (1.0, 'count_keyword'), (0.975, 'count_data_format'), (0.95, 'count_contributors'), (0.935, 'count_locations'), (0.885, 'count_spatial_coverage'), (0.845, 'count_spatial_resolution'), (0.225, 'count_sensors')]\n"
     ]
    }
   ],
   "source": [
    "# Code adapted from http://blog.datadive.net/selecting-good-features-part-iv-stability-selection-rfe-and-everything-side-by-side/\n",
    "\n",
    "#Data gets scaled automatically by sklearn's implementation\n",
    "X = nsidc_train[['count_data_format', 'count_contributors', 'count_platforms', 'count_sensors', \n",
    "                 'count_spatial_coverage', 'count_spatial_resolution', 'count_locations', 'count_keyword']] \n",
    "Y = np.log(nsidc_train.unique_users_ip)\n",
    "names = nsidc_train[['count_data_format', 'count_contributors', 'count_platforms', 'count_sensors', \n",
    "                 'count_spatial_coverage', 'count_spatial_resolution', 'count_locations', 'count_keyword']].columns\n",
    " \n",
    "rlasso = RandomizedLasso()\n",
    "rlasso.fit(X, Y)\n",
    " \n",
    "print \"Features sorted by their score:\"\n",
    "print sorted(zip(map(lambda x: round(x, 4), rlasso.scores_), \n",
    "                 names), reverse=True)\n"
   ]
  },
  {
   "cell_type": "code",
   "execution_count": 60,
   "metadata": {
    "collapsed": false
   },
   "outputs": [
    {
     "name": "stdout",
     "output_type": "stream",
     "text": [
      "[ True  True  True  True  True  True  True  True]\n",
      "[1 1 1 1 1 1 1 1]\n",
      "Optimal number of features : 8\n"
     ]
    },
    {
     "data": {
      "image/png": "[encoded data removed]",
      "text/plain": [
       "<matplotlib.figure.Figure at 0x10c43ed90>"
      ]
     },
     "metadata": {},
     "output_type": "display_data"
    }
   ],
   "source": [
    "# Import RFECV\n",
    "\n",
    "# Set y value equal to the natural lof of the unique_users_ip values in the training set\n",
    "y = np.log(nsidc_train.unique_users_ip)\n",
    "# Set the x value to selected columns from the training set\n",
    "x = nsidc_train[['count_data_format', 'count_contributors', 'count_platforms', 'count_sensors', \n",
    "                 'count_spatial_coverage', 'count_spatial_resolution', 'count_locations', 'count_keyword']] \n",
    "\n",
    "# create a linear regression model to evaluate features\n",
    "model = LinearRegression()\n",
    "# create the RFECV model using 10-Fold cross validation\n",
    "rfecv = RFECV(model, step=1, cv=10)\n",
    "# fit the model\n",
    "rfecv = rfecv.fit(x, y)\n",
    "# summarize the selection of the attributes\n",
    "print(rfecv.support_)\n",
    "print(rfecv.ranking_)\n",
    "# print the optimal number of features\n",
    "print(\"Optimal number of features : %d\" % rfecv.n_features_)\n",
    "\n",
    "# Plot number of features VS. cross-validation scores\n",
    "plt.figure()\n",
    "plt.xlabel(\"Number of features selected\")\n",
    "plt.ylabel(\"Cross validation score (nb of correct classifications)\")\n",
    "plt.plot(range(1, len(rfecv.grid_scores_) + 1), rfecv.grid_scores_)\n",
    "plt.show()"
   ]
  },
  {
   "cell_type": "code",
   "execution_count": 61,
   "metadata": {
    "collapsed": false
   },
   "outputs": [
    {
     "name": "stdout",
     "output_type": "stream",
     "text": [
      "\t\tCorr\tLasso\tLinReg\tRF\tRFE\tRidge\tStabil\tMean\n",
      "dataformat\t0.26\t0.0\t0.54\t0.02\t0.71\t0.54\t0.99\t0.44\n",
      "contributor\t0.03\t0.0\t0.17\t0.3\t0.57\t0.17\t0.96\t0.31\n",
      "platforms\t1.0\t0.0\t1.0\t0.54\t1.0\t1.0\t1.0\t0.79\n",
      "ctsensors\t0.17\t0.0\t0.0\t0.11\t0.0\t0.0\t0.0\t0.04\n",
      "ctspatcov\t0.06\t0.0\t0.51\t0.0\t0.86\t0.51\t0.84\t0.4\n",
      "ctspatres\t0.11\t0.0\t0.32\t0.2\t0.43\t0.31\t0.71\t0.3\n",
      "location\t0.0\t0.0\t0.17\t0.26\t0.29\t0.17\t0.92\t0.26\n",
      "keywords\t0.27\t1.0\t0.01\t1.0\t0.14\t0.01\t1.0\t0.49\n"
     ]
    }
   ],
   "source": [
    "# Code adapted from http://blog.datadive.net/selecting-good-features-part-iv-stability-selection-rfe-and-everything-side-by-side/\n",
    "\n",
    "\n",
    " \n",
    "np.random.seed(19483)\n",
    " \n",
    "size = 750\n",
    "X = nsidc_train[['count_data_format', 'count_contributors', 'count_platforms', 'count_sensors', \n",
    "                 'count_spatial_coverage', 'count_spatial_resolution', 'count_locations', 'count_keyword']] \n",
    " \n",
    "#\"Friedamn #1” regression problem\n",
    "Y = np.log(nsidc_train.unique_users_ip)\n",
    " \n",
    "names = ['dataformat', 'contributor', 'platforms', 'ctsensors', 'ctspatcov', 'ctspatres', 'location', 'keywords']\n",
    "#nsidc_train[['count_data_format', 'count_contributors', 'count_platforms', 'count_sensors', \n",
    "                 #'count_spatial_coverage', 'count_spatial_resolution', 'count_locations', 'count_keyword']].columns\n",
    " \n",
    "ranks = {}\n",
    " \n",
    "def rank_to_dict(ranks, names, order=1):\n",
    "    minmax = MinMaxScaler()\n",
    "    ranks = minmax.fit_transform(order*np.array([ranks]).T).T[0]\n",
    "    ranks = map(lambda x: round(x, 2), ranks)\n",
    "    return dict(zip(names, ranks ))\n",
    " \n",
    "lr = LinearRegression(normalize=True)\n",
    "lr.fit(X, Y)\n",
    "ranks[\"LinReg\"] = rank_to_dict(np.abs(lr.coef_), names)\n",
    " \n",
    "ridge = Ridge()\n",
    "ridge.fit(X, Y)\n",
    "ranks[\"Ridge\"] = rank_to_dict(np.abs(ridge.coef_), names)\n",
    " \n",
    " \n",
    "lasso = Lasso()\n",
    "lasso.fit(X, Y)\n",
    "ranks[\"Lasso\"] = rank_to_dict(np.abs(lasso.coef_), names)\n",
    " \n",
    " \n",
    "rlasso = RandomizedLasso()\n",
    "rlasso.fit(X, Y)\n",
    "ranks[\"Stabil\"] = rank_to_dict(np.abs(rlasso.scores_), names)\n",
    " \n",
    "#stop the search when 5 features are left (they will get equal scores)\n",
    "rfe = RFE(lr, n_features_to_select=1)\n",
    "rfe.fit(X,Y)\n",
    "ranks[\"RFE\"] = rank_to_dict(map(float, rfe.ranking_), names, order=-1)\n",
    " \n",
    "rf = RandomForestRegressor()\n",
    "rf.fit(X,Y)\n",
    "ranks[\"RF\"] = rank_to_dict(rf.feature_importances_, names)\n",
    " \n",
    " \n",
    "f, pval  = f_regression(X, Y, center=True)\n",
    "ranks[\"Corr\"] = rank_to_dict(f, names)\n",
    " \n",
    "\n",
    "#ranks[\"MIC\"] = rank_to_dict(mic_scores, names) \n",
    " \n",
    " \n",
    "r = {}\n",
    "for name in names:\n",
    "    r[name] = round(np.mean([ranks[method][name] \n",
    "                             for method in ranks.keys()]), 2)\n",
    " \n",
    "methods = sorted(ranks.keys())\n",
    "ranks[\"Mean\"] = r\n",
    "methods.append(\"Mean\")\n",
    " \n",
    "print \"\\t\\t%s\" % \"\\t\".join(methods)\n",
    "for name in names:\n",
    "    print \"%s\\t%s\" % (name, \"\\t\".join(map(str, \n",
    "                         [ranks[method][name] for method in methods])))"
   ]
  },
  {
   "cell_type": "code",
   "execution_count": 62,
   "metadata": {
    "collapsed": false
   },
   "outputs": [
    {
     "data": {
      "text/plain": [
       "{'contributor': 0.03,\n",
       " 'ctsensors': 0.17,\n",
       " 'ctspatcov': 0.06,\n",
       " 'ctspatres': 0.11,\n",
       " 'dataformat': 0.26,\n",
       " 'keywords': 0.27,\n",
       " 'location': 0.0,\n",
       " 'platforms': 1.0}"
      ]
     },
     "execution_count": 62,
     "metadata": {},
     "output_type": "execute_result"
    }
   ],
   "source": [
    "ranks['Corr']"
   ]
  },
  {
   "cell_type": "code",
   "execution_count": 63,
   "metadata": {
    "collapsed": false
   },
   "outputs": [],
   "source": [
    "\n",
    "\n",
    "# Run linear regression that includes the categorical variable citation_date_clean\n",
    "nsidc_lr5 = smf.ols(formula=\n",
    "                   'np.log(unique_users_ip) ~ -1 + count_data_format + count_platforms + count_keyword + C(citation_date_clean)',\n",
    "                   data=nsidc_train).fit()\n",
    "# Create an array of predictions for the training and testing data\n",
    "nsidc_train_pred4 = nsidc_lr4.predict(nsidc_train)\n",
    "nsidc_test_pred4 = nsidc_lr4.predict(nsidc_test)"
   ]
  },
  {
   "cell_type": "code",
   "execution_count": 64,
   "metadata": {
    "collapsed": false
   },
   "outputs": [
    {
     "data": {
      "text/html": [
       "<table class=\"simpletable\">\n",
       "<caption>OLS Regression Results</caption>\n",
       "<tr>\n",
       "  <th>Dep. Variable:</th>    <td>np.log(unique_users_ip)</td> <th>  R-squared:         </th> <td>   0.303</td>\n",
       "</tr>\n",
       "<tr>\n",
       "  <th>Model:</th>                      <td>OLS</td>           <th>  Adj. R-squared:    </th> <td>   0.270</td>\n",
       "</tr>\n",
       "<tr>\n",
       "  <th>Method:</th>                <td>Least Squares</td>      <th>  F-statistic:       </th> <td>   9.105</td>\n",
       "</tr>\n",
       "<tr>\n",
       "  <th>Date:</th>                <td>Tue, 31 May 2016</td>     <th>  Prob (F-statistic):</th> <td>5.34e-32</td>\n",
       "</tr>\n",
       "<tr>\n",
       "  <th>Time:</th>                    <td>13:05:01</td>         <th>  Log-Likelihood:    </th> <td> -897.82</td>\n",
       "</tr>\n",
       "<tr>\n",
       "  <th>No. Observations:</th>         <td>   637</td>          <th>  AIC:               </th> <td>   1856.</td>\n",
       "</tr>\n",
       "<tr>\n",
       "  <th>Df Residuals:</th>             <td>   607</td>          <th>  BIC:               </th> <td>   1989.</td>\n",
       "</tr>\n",
       "<tr>\n",
       "  <th>Df Model:</th>                 <td>    29</td>          <th>                     </th>     <td> </td>   \n",
       "</tr>\n",
       "<tr>\n",
       "  <th>Covariance Type:</th>         <td>nonrobust</td>        <th>                     </th>     <td> </td>   \n",
       "</tr>\n",
       "</table>\n",
       "<table class=\"simpletable\">\n",
       "<tr>\n",
       "                 <td></td>                   <th>coef</th>     <th>std err</th>      <th>t</th>      <th>P>|t|</th> <th>[95.0% Conf. Int.]</th> \n",
       "</tr>\n",
       "<tr>\n",
       "  <th>C(citation_date_clean)[1983.0]</th> <td>    3.0164</td> <td>    0.725</td> <td>    4.163</td> <td> 0.000</td> <td>    1.593     4.439</td>\n",
       "</tr>\n",
       "<tr>\n",
       "  <th>C(citation_date_clean)[1984.0]</th> <td>-1.174e-13</td> <td> 1.44e-14</td> <td>   -8.133</td> <td> 0.000</td> <td>-1.46e-13 -8.91e-14</td>\n",
       "</tr>\n",
       "<tr>\n",
       "  <th>C(citation_date_clean)[1988.0]</th> <td>    4.5063</td> <td>    1.020</td> <td>    4.419</td> <td> 0.000</td> <td>    2.503     6.509</td>\n",
       "</tr>\n",
       "<tr>\n",
       "  <th>C(citation_date_clean)[1991.0]</th> <td>    4.8592</td> <td>    1.015</td> <td>    4.785</td> <td> 0.000</td> <td>    2.865     6.853</td>\n",
       "</tr>\n",
       "<tr>\n",
       "  <th>C(citation_date_clean)[1992.0]</th> <td>    3.8096</td> <td>    0.589</td> <td>    6.472</td> <td> 0.000</td> <td>    2.654     4.966</td>\n",
       "</tr>\n",
       "<tr>\n",
       "  <th>C(citation_date_clean)[1994.0]</th> <td>    4.4161</td> <td>    1.027</td> <td>    4.299</td> <td> 0.000</td> <td>    2.399     6.434</td>\n",
       "</tr>\n",
       "<tr>\n",
       "  <th>C(citation_date_clean)[1995.0]</th> <td>    3.8085</td> <td>    0.362</td> <td>   10.531</td> <td> 0.000</td> <td>    3.098     4.519</td>\n",
       "</tr>\n",
       "<tr>\n",
       "  <th>C(citation_date_clean)[1996.0]</th> <td>    5.0508</td> <td>    0.725</td> <td>    6.966</td> <td> 0.000</td> <td>    3.627     6.475</td>\n",
       "</tr>\n",
       "<tr>\n",
       "  <th>C(citation_date_clean)[1997.0]</th> <td>    2.7536</td> <td>    0.420</td> <td>    6.552</td> <td> 0.000</td> <td>    1.928     3.579</td>\n",
       "</tr>\n",
       "<tr>\n",
       "  <th>C(citation_date_clean)[1998.0]</th> <td>    3.3221</td> <td>    0.171</td> <td>   19.424</td> <td> 0.000</td> <td>    2.986     3.658</td>\n",
       "</tr>\n",
       "<tr>\n",
       "  <th>C(citation_date_clean)[1999.0]</th> <td>    3.5984</td> <td>    0.332</td> <td>   10.852</td> <td> 0.000</td> <td>    2.947     4.250</td>\n",
       "</tr>\n",
       "<tr>\n",
       "  <th>C(citation_date_clean)[2000.0]</th> <td>    3.4436</td> <td>    0.427</td> <td>    8.060</td> <td> 0.000</td> <td>    2.605     4.283</td>\n",
       "</tr>\n",
       "<tr>\n",
       "  <th>C(citation_date_clean)[2001.0]</th> <td>    3.7634</td> <td>    0.394</td> <td>    9.556</td> <td> 0.000</td> <td>    2.990     4.537</td>\n",
       "</tr>\n",
       "<tr>\n",
       "  <th>C(citation_date_clean)[2002.0]</th> <td>    3.7168</td> <td>    0.220</td> <td>   16.893</td> <td> 0.000</td> <td>    3.285     4.149</td>\n",
       "</tr>\n",
       "<tr>\n",
       "  <th>C(citation_date_clean)[2003.0]</th> <td>    3.0255</td> <td>    0.150</td> <td>   20.165</td> <td> 0.000</td> <td>    2.731     3.320</td>\n",
       "</tr>\n",
       "<tr>\n",
       "  <th>C(citation_date_clean)[2004.0]</th> <td>    3.0012</td> <td>    0.177</td> <td>   16.965</td> <td> 0.000</td> <td>    2.654     3.349</td>\n",
       "</tr>\n",
       "<tr>\n",
       "  <th>C(citation_date_clean)[2005.0]</th> <td>    2.6286</td> <td>    0.285</td> <td>    9.212</td> <td> 0.000</td> <td>    2.068     3.189</td>\n",
       "</tr>\n",
       "<tr>\n",
       "  <th>C(citation_date_clean)[2006.0]</th> <td>    3.6429</td> <td>    0.217</td> <td>   16.759</td> <td> 0.000</td> <td>    3.216     4.070</td>\n",
       "</tr>\n",
       "<tr>\n",
       "  <th>C(citation_date_clean)[2007.0]</th> <td>    2.9804</td> <td>    0.230</td> <td>   12.939</td> <td> 0.000</td> <td>    2.528     3.433</td>\n",
       "</tr>\n",
       "<tr>\n",
       "  <th>C(citation_date_clean)[2008.0]</th> <td>    2.8407</td> <td>    0.225</td> <td>   12.609</td> <td> 0.000</td> <td>    2.398     3.283</td>\n",
       "</tr>\n",
       "<tr>\n",
       "  <th>C(citation_date_clean)[2009.0]</th> <td>    2.7713</td> <td>    0.164</td> <td>   16.862</td> <td> 0.000</td> <td>    2.448     3.094</td>\n",
       "</tr>\n",
       "<tr>\n",
       "  <th>C(citation_date_clean)[2010.0]</th> <td>    2.8538</td> <td>    0.195</td> <td>   14.634</td> <td> 0.000</td> <td>    2.471     3.237</td>\n",
       "</tr>\n",
       "<tr>\n",
       "  <th>C(citation_date_clean)[2011.0]</th> <td>    2.8445</td> <td>    0.208</td> <td>   13.674</td> <td> 0.000</td> <td>    2.436     3.253</td>\n",
       "</tr>\n",
       "<tr>\n",
       "  <th>C(citation_date_clean)[2012.0]</th> <td>    3.1152</td> <td>    0.286</td> <td>   10.888</td> <td> 0.000</td> <td>    2.553     3.677</td>\n",
       "</tr>\n",
       "<tr>\n",
       "  <th>C(citation_date_clean)[2013.0]</th> <td>    2.1100</td> <td>    0.162</td> <td>   13.046</td> <td> 0.000</td> <td>    1.792     2.428</td>\n",
       "</tr>\n",
       "<tr>\n",
       "  <th>C(citation_date_clean)[2014.0]</th> <td>    2.5760</td> <td>    0.161</td> <td>   15.983</td> <td> 0.000</td> <td>    2.259     2.893</td>\n",
       "</tr>\n",
       "<tr>\n",
       "  <th>C(citation_date_clean)[2015.0]</th> <td>    2.1505</td> <td>    0.149</td> <td>   14.402</td> <td> 0.000</td> <td>    1.857     2.444</td>\n",
       "</tr>\n",
       "<tr>\n",
       "  <th>C(citation_date_clean)[2016.0]</th> <td>    3.2034</td> <td>    0.252</td> <td>   12.687</td> <td> 0.000</td> <td>    2.708     3.699</td>\n",
       "</tr>\n",
       "<tr>\n",
       "  <th>count_data_format</th>              <td>    0.1742</td> <td>    0.050</td> <td>    3.505</td> <td> 0.000</td> <td>    0.077     0.272</td>\n",
       "</tr>\n",
       "<tr>\n",
       "  <th>count_platforms</th>                <td>    0.2020</td> <td>    0.026</td> <td>    7.824</td> <td> 0.000</td> <td>    0.151     0.253</td>\n",
       "</tr>\n",
       "<tr>\n",
       "  <th>count_keyword</th>                  <td>    0.0216</td> <td>    0.005</td> <td>    4.002</td> <td> 0.000</td> <td>    0.011     0.032</td>\n",
       "</tr>\n",
       "</table>\n",
       "<table class=\"simpletable\">\n",
       "<tr>\n",
       "  <th>Omnibus:</th>       <td>70.062</td> <th>  Durbin-Watson:     </th> <td>   1.988</td>\n",
       "</tr>\n",
       "<tr>\n",
       "  <th>Prob(Omnibus):</th> <td> 0.000</td> <th>  Jarque-Bera (JB):  </th> <td> 173.906</td>\n",
       "</tr>\n",
       "<tr>\n",
       "  <th>Skew:</th>          <td> 0.583</td> <th>  Prob(JB):          </th> <td>1.72e-38</td>\n",
       "</tr>\n",
       "<tr>\n",
       "  <th>Kurtosis:</th>      <td> 5.278</td> <th>  Cond. No.          </th> <td>1.15e+16</td>\n",
       "</tr>\n",
       "</table>"
      ],
      "text/plain": [
       "<class 'statsmodels.iolib.summary.Summary'>\n",
       "\"\"\"\n",
       "                               OLS Regression Results                              \n",
       "===================================================================================\n",
       "Dep. Variable:     np.log(unique_users_ip)   R-squared:                       0.303\n",
       "Model:                                 OLS   Adj. R-squared:                  0.270\n",
       "Method:                      Least Squares   F-statistic:                     9.105\n",
       "Date:                     Tue, 31 May 2016   Prob (F-statistic):           5.34e-32\n",
       "Time:                             13:05:01   Log-Likelihood:                -897.82\n",
       "No. Observations:                      637   AIC:                             1856.\n",
       "Df Residuals:                          607   BIC:                             1989.\n",
       "Df Model:                               29                                         \n",
       "Covariance Type:                 nonrobust                                         \n",
       "==================================================================================================\n",
       "                                     coef    std err          t      P>|t|      [95.0% Conf. Int.]\n",
       "--------------------------------------------------------------------------------------------------\n",
       "C(citation_date_clean)[1983.0]     3.0164      0.725      4.163      0.000         1.593     4.439\n",
       "C(citation_date_clean)[1984.0] -1.174e-13   1.44e-14     -8.133      0.000     -1.46e-13 -8.91e-14\n",
       "C(citation_date_clean)[1988.0]     4.5063      1.020      4.419      0.000         2.503     6.509\n",
       "C(citation_date_clean)[1991.0]     4.8592      1.015      4.785      0.000         2.865     6.853\n",
       "C(citation_date_clean)[1992.0]     3.8096      0.589      6.472      0.000         2.654     4.966\n",
       "C(citation_date_clean)[1994.0]     4.4161      1.027      4.299      0.000         2.399     6.434\n",
       "C(citation_date_clean)[1995.0]     3.8085      0.362     10.531      0.000         3.098     4.519\n",
       "C(citation_date_clean)[1996.0]     5.0508      0.725      6.966      0.000         3.627     6.475\n",
       "C(citation_date_clean)[1997.0]     2.7536      0.420      6.552      0.000         1.928     3.579\n",
       "C(citation_date_clean)[1998.0]     3.3221      0.171     19.424      0.000         2.986     3.658\n",
       "C(citation_date_clean)[1999.0]     3.5984      0.332     10.852      0.000         2.947     4.250\n",
       "C(citation_date_clean)[2000.0]     3.4436      0.427      8.060      0.000         2.605     4.283\n",
       "C(citation_date_clean)[2001.0]     3.7634      0.394      9.556      0.000         2.990     4.537\n",
       "C(citation_date_clean)[2002.0]     3.7168      0.220     16.893      0.000         3.285     4.149\n",
       "C(citation_date_clean)[2003.0]     3.0255      0.150     20.165      0.000         2.731     3.320\n",
       "C(citation_date_clean)[2004.0]     3.0012      0.177     16.965      0.000         2.654     3.349\n",
       "C(citation_date_clean)[2005.0]     2.6286      0.285      9.212      0.000         2.068     3.189\n",
       "C(citation_date_clean)[2006.0]     3.6429      0.217     16.759      0.000         3.216     4.070\n",
       "C(citation_date_clean)[2007.0]     2.9804      0.230     12.939      0.000         2.528     3.433\n",
       "C(citation_date_clean)[2008.0]     2.8407      0.225     12.609      0.000         2.398     3.283\n",
       "C(citation_date_clean)[2009.0]     2.7713      0.164     16.862      0.000         2.448     3.094\n",
       "C(citation_date_clean)[2010.0]     2.8538      0.195     14.634      0.000         2.471     3.237\n",
       "C(citation_date_clean)[2011.0]     2.8445      0.208     13.674      0.000         2.436     3.253\n",
       "C(citation_date_clean)[2012.0]     3.1152      0.286     10.888      0.000         2.553     3.677\n",
       "C(citation_date_clean)[2013.0]     2.1100      0.162     13.046      0.000         1.792     2.428\n",
       "C(citation_date_clean)[2014.0]     2.5760      0.161     15.983      0.000         2.259     2.893\n",
       "C(citation_date_clean)[2015.0]     2.1505      0.149     14.402      0.000         1.857     2.444\n",
       "C(citation_date_clean)[2016.0]     3.2034      0.252     12.687      0.000         2.708     3.699\n",
       "count_data_format                  0.1742      0.050      3.505      0.000         0.077     0.272\n",
       "count_platforms                    0.2020      0.026      7.824      0.000         0.151     0.253\n",
       "count_keyword                      0.0216      0.005      4.002      0.000         0.011     0.032\n",
       "==============================================================================\n",
       "Omnibus:                       70.062   Durbin-Watson:                   1.988\n",
       "Prob(Omnibus):                  0.000   Jarque-Bera (JB):              173.906\n",
       "Skew:                           0.583   Prob(JB):                     1.72e-38\n",
       "Kurtosis:                       5.278   Cond. No.                     1.15e+16\n",
       "==============================================================================\n",
       "\n",
       "Warnings:\n",
       "[1] Standard Errors assume that the covariance matrix of the errors is correctly specified.\n",
       "[2] The smallest eigenvalue is 8.1e-28. This might indicate that there are\n",
       "strong multicollinearity problems or that the design matrix is singular.\n",
       "\"\"\""
      ]
     },
     "execution_count": 64,
     "metadata": {},
     "output_type": "execute_result"
    }
   ],
   "source": [
    "# Output results of linear regression\n",
    "nsidc_lr5.summary()"
   ]
  },
  {
   "cell_type": "code",
   "execution_count": 65,
   "metadata": {
    "collapsed": false
   },
   "outputs": [
    {
     "data": {
      "text/plain": [
       "1.1221735062267086"
      ]
     },
     "execution_count": 65,
     "metadata": {},
     "output_type": "execute_result"
    }
   ],
   "source": [
    "# Calculate the RMSE of the testing actual values versus predicted values\n",
    "np.sqrt(mean_squared_error(np.log(nsidc_test['unique_users_ip']), nsidc_test_pred4))"
   ]
  },
  {
   "cell_type": "code",
   "execution_count": 66,
   "metadata": {
    "collapsed": true
   },
   "outputs": [],
   "source": [
    "data_format_bin = pd.read_csv('data_format_as_binaries_2016-05-21_1426.csv')"
   ]
  },
  {
   "cell_type": "code",
   "execution_count": 67,
   "metadata": {
    "collapsed": false
   },
   "outputs": [],
   "source": [
    "# Set seed for reproducibility\n",
    "np.random.seed(4298)\n",
    "# Split dataframe into test (34%) and train (66%)\n",
    "data_format_train, data_format_test = train_test_split(data_format_bin, test_size = 0.20)"
   ]
  },
  {
   "cell_type": "code",
   "execution_count": 68,
   "metadata": {
    "collapsed": false
   },
   "outputs": [
    {
     "name": "stdout",
     "output_type": "stream",
     "text": [
      "2.37929120529\n",
      "Features sorted by their importance:\n",
      "[(0.3107, 'png'), (0.2581, 'hdf-eos'), (0.1138, 'esri-shapefile'), (0.1025, 'microsoft-excel'), (0.0921, 'hdf'), (0.0742, 'binary'), (0.0486, 'geotiff'), (0.0, 'xml'), (0.0, 'wms'), (0.0, 'wfs'), (0.0, 'txt'), (0.0, 'twf'), (0.0, 'tiff'), (0.0, 'sir'), (0.0, 'segy'), (0.0, 'photoshop'), (0.0, 'pdf'), (0.0, 'paper'), (0.0, 'not-specified'), (0.0, 'netcdf'), (0.0, 'mpeg'), (0.0, 'microsoft-word'), (0.0, 'microsoft-access'), (0.0, 'matlab'), (0.0, 'lmrf'), (0.0, 'kml'), (0.0, 'jpeg'), (0.0, 'irl'), (0.0, 'img'), (0.0, 'html'), (0.0, 'hdf5'), (0.0, 'grib'), (0.0, 'gmt'), (0.0, 'gml'), (0.0, 'gif'), (0.0, 'evf'), (0.0, 'esri-interchange'), (0.0, 'esri-grid'), (0.0, 'dxf'), (0.0, 'csv'), (0.0, 'bmp'), (0.0, 'avi'), (0.0, 'arcgis')]\n"
     ]
    }
   ],
   "source": [
    "X = data_format_train.iloc[0:,2:]\n",
    "y = np.log10(data_format_train.unique_users_ip)\n",
    "\n",
    "X_test = data_format_test.iloc[0:,2:]\n",
    "y_test = np.log(data_format_test.unique_users_ip)\n",
    "\n",
    "estimator = DecisionTreeRegressor(criterion='mse', max_leaf_nodes=10)\n",
    "estimator.fit(X, y)\n",
    "y_predict = estimator.predict(X_test)\n",
    "\n",
    "score = np.sqrt(mean_squared_error(y_test, y_predict))\n",
    "print score\n",
    "print \"Features sorted by their importance:\"\n",
    "print sorted(zip(map(lambda x: round(x, 4), estimator.feature_importances_), \n",
    "                 data_format_train.iloc[0:,2:].columns), reverse=True)"
   ]
  },
  {
   "cell_type": "code",
   "execution_count": 69,
   "metadata": {
    "collapsed": false
   },
   "outputs": [],
   "source": [
    "\n",
    "# Function adapted from http://chrisstrelioff.ws/sandbox/2015/06/08/decision_trees_in_python_with_scikit_learn_and_pandas.html\n",
    "def visualize_tree(tree, feature_names, filename):\n",
    "    \"\"\"Create tree png using graphviz.\n",
    "\n",
    "    Args\n",
    "    ----\n",
    "    tree -- scikit-learn DecsisionTree.\n",
    "    feature_names -- list of feature names.\n",
    "    \"\"\"\n",
    "    with open(filename+\".dot\", 'w') as f:\n",
    "        export_graphviz(tree, out_file=f,\n",
    "                        feature_names=feature_names)\n",
    "\n",
    "    command = [\"/usr/local/Cellar/graphviz/2.38.0/bin/dot\", \"-Tpng\", filename+\".dot\", \"-o\", filename+\".png\"]\n",
    "    try:\n",
    "        subprocess.check_call(command)\n",
    "    except:\n",
    "        exit(\"Could not run dot, ie graphviz, to produce visualization\")"
   ]
  },
  {
   "cell_type": "code",
   "execution_count": 70,
   "metadata": {
    "collapsed": false
   },
   "outputs": [],
   "source": [
    "data_format_features = data_format_train.iloc[0:,2:].columns\n",
    "\n",
    "visualize_tree(estimator, data_format_features, 'd_f_tree10')"
   ]
  },
  {
   "cell_type": "code",
   "execution_count": 71,
   "metadata": {
    "collapsed": true
   },
   "outputs": [],
   "source": [
    "keyword_bin = pd.read_csv('keyword_as_binaries_2016-05-21_1427.csv')"
   ]
  },
  {
   "cell_type": "code",
   "execution_count": 72,
   "metadata": {
    "collapsed": true
   },
   "outputs": [],
   "source": [
    "# Set seed for reproducibility\n",
    "np.random.seed(521)\n",
    "# Split dataframe into test (34%) and train (66%)\n",
    "keyword_train, keyword_test = train_test_split(keyword_bin, test_size = 0.20)"
   ]
  },
  {
   "cell_type": "code",
   "execution_count": 73,
   "metadata": {
    "collapsed": false
   },
   "outputs": [
    {
     "name": "stdout",
     "output_type": "stream",
     "text": [
      "1.14347342772\n",
      "Features sorted by their importance:\n",
      "[(0.2948, 'sea ice pm polar stereo-project'), (0.1408, 'agdc-project'), (0.1112, 'ease-grid-project'), (0.0899, 'sea ice'), (0.0842, 'numerical weather prediction'), (0.0813, 'glacier fluctuation'), (0.0767, 'modis-project'), (0.0625, 'smex'), (0.0586, 'smap validation cl07-project'), (0.0, 'zonal winds'), (0.0, 'xenon'), (0.0, 'xctd probes'), (0.0, 'worthington glacier'), (0.0, 'world meteorological organization'), (0.0, 'wolverine glacier'), (0.0, 'wmo'), (0.0, 'winter air temperature'), (0.0, 'wind-induced undercatch'), (0.0, 'wind velocity as vectors'), (0.0, 'wind velocity')]\n"
     ]
    }
   ],
   "source": [
    "X = keyword_train.iloc[0:,2:]\n",
    "y = np.log(keyword_train.unique_users_ip)\n",
    "\n",
    "X_test = keyword_test.iloc[0:,2:]\n",
    "y_test = np.log(keyword_test.unique_users_ip)\n",
    "\n",
    "keyword_estimator = DecisionTreeRegressor(criterion='mse', max_leaf_nodes=10)\n",
    "keyword_estimator.fit(X, y)\n",
    "y_predict = keyword_estimator.predict(X_test)\n",
    "\n",
    "rmse = np.sqrt(mean_squared_error(y_test, y_predict))\n",
    "print rmse\n",
    "print \"Features sorted by their importance:\"\n",
    "print sorted(zip(map(lambda x: round(x, 4), keyword_estimator.feature_importances_), \n",
    "                 keyword_train.iloc[0:,2:].columns), reverse=True)[0:20]"
   ]
  },
  {
   "cell_type": "code",
   "execution_count": 74,
   "metadata": {
    "collapsed": false
   },
   "outputs": [],
   "source": [
    "keyword_features = keyword_train.iloc[0:,2:].columns\n",
    "visualize_tree(keyword_estimator, keyword_features, 'keyword_tree10')"
   ]
  },
  {
   "cell_type": "code",
   "execution_count": 75,
   "metadata": {
    "collapsed": false
   },
   "outputs": [
    {
     "name": "stderr",
     "output_type": "stream",
     "text": [
      "/Users/Penguin/anaconda/lib/python2.7/site-packages/sklearn/linear_model/least_angle.py:309: ConvergenceWarning: Regressors in active set degenerate. Dropping a regressor, after 40 iterations, i.e. alpha=3.717e-03, with an active set of 36 regressors, and the smallest cholesky pivot element being 4.712e-08\n",
      "  ConvergenceWarning)\n",
      "/Users/Penguin/anaconda/lib/python2.7/site-packages/sklearn/linear_model/least_angle.py:309: ConvergenceWarning: Regressors in active set degenerate. Dropping a regressor, after 48 iterations, i.e. alpha=3.334e-03, with an active set of 44 regressors, and the smallest cholesky pivot element being 8.093e-08\n",
      "  ConvergenceWarning)\n",
      "/Users/Penguin/anaconda/lib/python2.7/site-packages/sklearn/linear_model/least_angle.py:309: ConvergenceWarning: Regressors in active set degenerate. Dropping a regressor, after 54 iterations, i.e. alpha=3.030e-03, with an active set of 50 regressors, and the smallest cholesky pivot element being 4.712e-08\n",
      "  ConvergenceWarning)\n",
      "/Users/Penguin/anaconda/lib/python2.7/site-packages/sklearn/linear_model/least_angle.py:309: ConvergenceWarning: Regressors in active set degenerate. Dropping a regressor, after 60 iterations, i.e. alpha=2.748e-03, with an active set of 56 regressors, and the smallest cholesky pivot element being 5.960e-08\n",
      "  ConvergenceWarning)\n",
      "/Users/Penguin/anaconda/lib/python2.7/site-packages/sklearn/linear_model/least_angle.py:309: ConvergenceWarning: Regressors in active set degenerate. Dropping a regressor, after 65 iterations, i.e. alpha=2.645e-03, with an active set of 59 regressors, and the smallest cholesky pivot element being 8.429e-08\n",
      "  ConvergenceWarning)\n",
      "/Users/Penguin/anaconda/lib/python2.7/site-packages/sklearn/linear_model/least_angle.py:309: ConvergenceWarning: Regressors in active set degenerate. Dropping a regressor, after 112 iterations, i.e. alpha=1.975e-03, with an active set of 104 regressors, and the smallest cholesky pivot element being 8.429e-08\n",
      "  ConvergenceWarning)\n",
      "/Users/Penguin/anaconda/lib/python2.7/site-packages/sklearn/linear_model/least_angle.py:309: ConvergenceWarning: Regressors in active set degenerate. Dropping a regressor, after 122 iterations, i.e. alpha=1.849e-03, with an active set of 114 regressors, and the smallest cholesky pivot element being 4.470e-08\n",
      "  ConvergenceWarning)\n",
      "/Users/Penguin/anaconda/lib/python2.7/site-packages/sklearn/linear_model/least_angle.py:309: ConvergenceWarning: Regressors in active set degenerate. Dropping a regressor, after 122 iterations, i.e. alpha=1.847e-03, with an active set of 114 regressors, and the smallest cholesky pivot element being 5.373e-08\n",
      "  ConvergenceWarning)\n",
      "/Users/Penguin/anaconda/lib/python2.7/site-packages/sklearn/linear_model/least_angle.py:309: ConvergenceWarning: Regressors in active set degenerate. Dropping a regressor, after 122 iterations, i.e. alpha=1.847e-03, with an active set of 114 regressors, and the smallest cholesky pivot element being 5.771e-08\n",
      "  ConvergenceWarning)\n",
      "/Users/Penguin/anaconda/lib/python2.7/site-packages/sklearn/linear_model/least_angle.py:309: ConvergenceWarning: Regressors in active set degenerate. Dropping a regressor, after 122 iterations, i.e. alpha=1.847e-03, with an active set of 114 regressors, and the smallest cholesky pivot element being 8.429e-08\n",
      "  ConvergenceWarning)\n",
      "/Users/Penguin/anaconda/lib/python2.7/site-packages/sklearn/linear_model/least_angle.py:309: ConvergenceWarning: Regressors in active set degenerate. Dropping a regressor, after 132 iterations, i.e. alpha=1.692e-03, with an active set of 122 regressors, and the smallest cholesky pivot element being 8.297e-08\n",
      "  ConvergenceWarning)\n",
      "/Users/Penguin/anaconda/lib/python2.7/site-packages/sklearn/linear_model/least_angle.py:309: ConvergenceWarning: Regressors in active set degenerate. Dropping a regressor, after 137 iterations, i.e. alpha=1.673e-03, with an active set of 127 regressors, and the smallest cholesky pivot element being 8.560e-08\n",
      "  ConvergenceWarning)\n",
      "/Users/Penguin/anaconda/lib/python2.7/site-packages/sklearn/linear_model/least_angle.py:309: ConvergenceWarning: Regressors in active set degenerate. Dropping a regressor, after 137 iterations, i.e. alpha=1.669e-03, with an active set of 127 regressors, and the smallest cholesky pivot element being 9.003e-08\n",
      "  ConvergenceWarning)\n",
      "/Users/Penguin/anaconda/lib/python2.7/site-packages/sklearn/linear_model/least_angle.py:309: ConvergenceWarning: Regressors in active set degenerate. Dropping a regressor, after 137 iterations, i.e. alpha=1.669e-03, with an active set of 127 regressors, and the smallest cholesky pivot element being 1.490e-08\n",
      "  ConvergenceWarning)\n",
      "/Users/Penguin/anaconda/lib/python2.7/site-packages/sklearn/linear_model/least_angle.py:309: ConvergenceWarning: Regressors in active set degenerate. Dropping a regressor, after 142 iterations, i.e. alpha=1.620e-03, with an active set of 132 regressors, and the smallest cholesky pivot element being 4.215e-08\n",
      "  ConvergenceWarning)\n",
      "/Users/Penguin/anaconda/lib/python2.7/site-packages/sklearn/linear_model/least_angle.py:309: ConvergenceWarning: Regressors in active set degenerate. Dropping a regressor, after 147 iterations, i.e. alpha=1.561e-03, with an active set of 137 regressors, and the smallest cholesky pivot element being 8.816e-08\n",
      "  ConvergenceWarning)\n",
      "/Users/Penguin/anaconda/lib/python2.7/site-packages/sklearn/linear_model/least_angle.py:309: ConvergenceWarning: Regressors in active set degenerate. Dropping a regressor, after 150 iterations, i.e. alpha=1.558e-03, with an active set of 140 regressors, and the smallest cholesky pivot element being 1.490e-08\n",
      "  ConvergenceWarning)\n",
      "/Users/Penguin/anaconda/lib/python2.7/site-packages/sklearn/linear_model/least_angle.py:309: ConvergenceWarning: Regressors in active set degenerate. Dropping a regressor, after 161 iterations, i.e. alpha=1.474e-03, with an active set of 151 regressors, and the smallest cholesky pivot element being 8.429e-08\n",
      "  ConvergenceWarning)\n",
      "/Users/Penguin/anaconda/lib/python2.7/site-packages/sklearn/linear_model/least_angle.py:309: ConvergenceWarning: Regressors in active set degenerate. Dropping a regressor, after 162 iterations, i.e. alpha=1.470e-03, with an active set of 152 regressors, and the smallest cholesky pivot element being 8.025e-08\n",
      "  ConvergenceWarning)\n",
      "/Users/Penguin/anaconda/lib/python2.7/site-packages/sklearn/linear_model/least_angle.py:309: ConvergenceWarning: Regressors in active set degenerate. Dropping a regressor, after 162 iterations, i.e. alpha=1.470e-03, with an active set of 152 regressors, and the smallest cholesky pivot element being 2.107e-08\n",
      "  ConvergenceWarning)\n",
      "/Users/Penguin/anaconda/lib/python2.7/site-packages/sklearn/linear_model/least_angle.py:309: ConvergenceWarning: Regressors in active set degenerate. Dropping a regressor, after 162 iterations, i.e. alpha=1.470e-03, with an active set of 152 regressors, and the smallest cholesky pivot element being 8.941e-08\n",
      "  ConvergenceWarning)\n",
      "/Users/Penguin/anaconda/lib/python2.7/site-packages/sklearn/linear_model/least_angle.py:309: ConvergenceWarning: Regressors in active set degenerate. Dropping a regressor, after 168 iterations, i.e. alpha=1.394e-03, with an active set of 158 regressors, and the smallest cholesky pivot element being 8.560e-08\n",
      "  ConvergenceWarning)\n",
      "/Users/Penguin/anaconda/lib/python2.7/site-packages/sklearn/linear_model/least_angle.py:309: ConvergenceWarning: Regressors in active set degenerate. Dropping a regressor, after 174 iterations, i.e. alpha=1.348e-03, with an active set of 164 regressors, and the smallest cholesky pivot element being 1.490e-08\n",
      "  ConvergenceWarning)\n",
      "/Users/Penguin/anaconda/lib/python2.7/site-packages/sklearn/linear_model/least_angle.py:309: ConvergenceWarning: Regressors in active set degenerate. Dropping a regressor, after 175 iterations, i.e. alpha=1.330e-03, with an active set of 165 regressors, and the smallest cholesky pivot element being 7.885e-08\n",
      "  ConvergenceWarning)\n",
      "/Users/Penguin/anaconda/lib/python2.7/site-packages/sklearn/linear_model/least_angle.py:309: ConvergenceWarning: Regressors in active set degenerate. Dropping a regressor, after 186 iterations, i.e. alpha=1.218e-03, with an active set of 174 regressors, and the smallest cholesky pivot element being 6.144e-08\n",
      "  ConvergenceWarning)\n",
      "/Users/Penguin/anaconda/lib/python2.7/site-packages/sklearn/linear_model/least_angle.py:309: ConvergenceWarning: Regressors in active set degenerate. Dropping a regressor, after 198 iterations, i.e. alpha=1.153e-03, with an active set of 186 regressors, and the smallest cholesky pivot element being 7.300e-08\n",
      "  ConvergenceWarning)\n",
      "/Users/Penguin/anaconda/lib/python2.7/site-packages/sklearn/linear_model/least_angle.py:309: ConvergenceWarning: Regressors in active set degenerate. Dropping a regressor, after 201 iterations, i.e. alpha=1.134e-03, with an active set of 187 regressors, and the smallest cholesky pivot element being 8.429e-08\n",
      "  ConvergenceWarning)\n",
      "/Users/Penguin/anaconda/lib/python2.7/site-packages/sklearn/linear_model/least_angle.py:309: ConvergenceWarning: Regressors in active set degenerate. Dropping a regressor, after 209 iterations, i.e. alpha=1.087e-03, with an active set of 193 regressors, and the smallest cholesky pivot element being 7.743e-08\n",
      "  ConvergenceWarning)\n",
      "/Users/Penguin/anaconda/lib/python2.7/site-packages/sklearn/linear_model/least_angle.py:309: ConvergenceWarning: Regressors in active set degenerate. Dropping a regressor, after 210 iterations, i.e. alpha=1.081e-03, with an active set of 194 regressors, and the smallest cholesky pivot element being 7.743e-08\n",
      "  ConvergenceWarning)\n",
      "/Users/Penguin/anaconda/lib/python2.7/site-packages/sklearn/linear_model/least_angle.py:309: ConvergenceWarning: Regressors in active set degenerate. Dropping a regressor, after 215 iterations, i.e. alpha=1.058e-03, with an active set of 199 regressors, and the smallest cholesky pivot element being 7.376e-08\n",
      "  ConvergenceWarning)\n",
      "/Users/Penguin/anaconda/lib/python2.7/site-packages/sklearn/linear_model/least_angle.py:309: ConvergenceWarning: Regressors in active set degenerate. Dropping a regressor, after 217 iterations, i.e. alpha=1.043e-03, with an active set of 201 regressors, and the smallest cholesky pivot element being 6.747e-08\n",
      "  ConvergenceWarning)\n",
      "/Users/Penguin/anaconda/lib/python2.7/site-packages/sklearn/linear_model/least_angle.py:309: ConvergenceWarning: Regressors in active set degenerate. Dropping a regressor, after 221 iterations, i.e. alpha=1.010e-03, with an active set of 203 regressors, and the smallest cholesky pivot element being 8.429e-08\n",
      "  ConvergenceWarning)\n"
     ]
    },
    {
     "name": "stdout",
     "output_type": "stream",
     "text": [
      "Features sorted by their score:\n",
      "[(0.2, 'sea ice pm polar stereo-project'), (0.115, 'polar stereo sea ice-project '), (0.055, 'sea ice prediction network-project'), (0.005, 'sea ice pm trends-project'), (0.005, 'sea ice conditions'), (0.0, 'zonal winds'), (0.0, 'xenon'), (0.0, 'xctd probes'), (0.0, 'worthington glacier'), (0.0, 'world meteorological organization'), (0.0, 'wolverine glacier'), (0.0, 'wmo'), (0.0, 'winter air temperature'), (0.0, 'wind-induced undercatch'), (0.0, 'wind velocity as vectors'), (0.0, 'wind velocity'), (0.0, 'wind speed'), (0.0, 'wind direction'), (0.0, 'whillans ice stream'), (0.0, 'wetlands')]\n"
     ]
    },
    {
     "name": "stderr",
     "output_type": "stream",
     "text": [
      "/Users/Penguin/anaconda/lib/python2.7/site-packages/sklearn/linear_model/least_angle.py:309: ConvergenceWarning: Regressors in active set degenerate. Dropping a regressor, after 221 iterations, i.e. alpha=1.010e-03, with an active set of 203 regressors, and the smallest cholesky pivot element being 6.664e-08\n",
      "  ConvergenceWarning)\n",
      "/Users/Penguin/anaconda/lib/python2.7/site-packages/sklearn/linear_model/least_angle.py:309: ConvergenceWarning: Regressors in active set degenerate. Dropping a regressor, after 221 iterations, i.e. alpha=1.010e-03, with an active set of 203 regressors, and the smallest cholesky pivot element being 7.885e-08\n",
      "  ConvergenceWarning)\n",
      "/Users/Penguin/anaconda/lib/python2.7/site-packages/sklearn/linear_model/least_angle.py:309: ConvergenceWarning: Regressors in active set degenerate. Dropping a regressor, after 223 iterations, i.e. alpha=9.869e-04, with an active set of 205 regressors, and the smallest cholesky pivot element being 5.162e-08\n",
      "  ConvergenceWarning)\n",
      "/Users/Penguin/anaconda/lib/python2.7/site-packages/sklearn/linear_model/least_angle.py:309: ConvergenceWarning: Regressors in active set degenerate. Dropping a regressor, after 224 iterations, i.e. alpha=9.856e-04, with an active set of 206 regressors, and the smallest cholesky pivot element being 7.885e-08\n",
      "  ConvergenceWarning)\n",
      "/Users/Penguin/anaconda/lib/python2.7/site-packages/sklearn/linear_model/least_angle.py:334: ConvergenceWarning: Early stopping the lars path, as the residues are small and the current value of alpha is no longer well controlled. 229 iterations, alpha=9.728e-04, previous alpha=9.708e-04, with an active set of 210 regressors.\n",
      "  ConvergenceWarning)\n"
     ]
    }
   ],
   "source": [
    "# Code adapted from http://blog.datadive.net/selecting-good-features-part-iv-stability-selection-rfe-and-everything-side-by-side/\n",
    "#Data gets scaled automatically by sklearn's implementation\n",
    "X = keyword_train.iloc[0:,2:]\n",
    "Y = np.log(keyword_train.unique_users_ip)\n",
    "names = keyword_train.iloc[0:,2:].columns\n",
    " \n",
    "rlasso = RandomizedLasso()\n",
    "rlasso.fit(X, Y)\n",
    " \n",
    "print \"Features sorted by their score:\"\n",
    "print sorted(zip(map(lambda x: round(x, 4), rlasso.scores_), \n",
    "                 names), reverse=True)[0:20]\n",
    "\n",
    "\n"
   ]
  },
  {
   "cell_type": "code",
   "execution_count": 76,
   "metadata": {
    "collapsed": false
   },
   "outputs": [
    {
     "name": "stdout",
     "output_type": "stream",
     "text": [
      "Features sorted by their rank:\n",
      "[(1.0, 'active-layer depth'), (2.0, 'palsa bog'), (3.0, 'runways'), (4.0, 'amm-1'), (5.0, 'adeos-ii'), (6.0, 'amsr-project'), (7.0, 'chugach mountains'), (8.0, 'columbia glacier'), (9.0, 'atlantic ocean'), (10.0, 'ocean water temperatures'), (11.0, 'u.s. navy'), (12.0, 'aleutian islands'), (13.0, 'bering strait'), (14.0, 'msa'), (15.0, 'chromatography'), (16.0, 'carbon-13'), (17.0, 'firn air chemistry'), (18.0, 'drifting ice'), (19.0, 'surface drifting buoy'), (20.0, 'ice buoy')]\n"
     ]
    }
   ],
   "source": [
    "\n",
    "X = keyword_train.iloc[0:,2:]\n",
    "Y = np.log(keyword_train.unique_users_ip)\n",
    "names = keyword_train.iloc[0:,2:].columns\n",
    " \n",
    "#use linear regression as the model\n",
    "lr = LinearRegression()\n",
    "#rank all features, i.e continue the elimination until the last one\n",
    "rfe = RFE(lr, n_features_to_select=1)\n",
    "rfe.fit(X,Y)\n",
    " \n",
    "print \"Features sorted by their rank:\"\n",
    "print sorted(zip(map(lambda x: round(x, 4), rfe.ranking_), names))[0:20]"
   ]
  },
  {
   "cell_type": "code",
   "execution_count": 77,
   "metadata": {
    "collapsed": true
   },
   "outputs": [],
   "source": [
    "contributor_bin = pd.read_csv('contributor_list_as_binaries_2016-05-21_1426.csv')"
   ]
  },
  {
   "cell_type": "code",
   "execution_count": 78,
   "metadata": {
    "collapsed": true
   },
   "outputs": [],
   "source": [
    "# Set seed for reproducibility\n",
    "np.random.seed(521)\n",
    "# Split dataframe into test (34%) and train (66%)\n",
    "contr_train, contr_test = train_test_split(contributor_bin, test_size = 0.20)"
   ]
  },
  {
   "cell_type": "code",
   "execution_count": 79,
   "metadata": {
    "collapsed": false
   },
   "outputs": [
    {
     "data": {
      "text/plain": [
       "1.2314097672260205"
      ]
     },
     "execution_count": 79,
     "metadata": {},
     "output_type": "execute_result"
    }
   ],
   "source": [
    "X = contr_train.iloc[0:,2:]\n",
    "y = np.log(contr_train.unique_users_ip)\n",
    "\n",
    "X_test = contr_test.iloc[0:,2:]\n",
    "y_test = np.log(contr_test.unique_users_ip)\n",
    "\n",
    "contributor_estimator = DecisionTreeRegressor(criterion='mse', max_leaf_nodes=10)\n",
    "contributor_estimator.fit(X, y)\n",
    "y_predict = contributor_estimator.predict(X_test)\n",
    "\n",
    "score = np.sqrt(mean_squared_error(y_test, y_predict))\n",
    "score"
   ]
  },
  {
   "cell_type": "code",
   "execution_count": 80,
   "metadata": {
    "collapsed": true
   },
   "outputs": [],
   "source": [
    "contributor_features = contr_train.iloc[0:,2:].columns\n",
    "visualize_tree(contributor_estimator, contributor_features, 'contributor_tree10')"
   ]
  },
  {
   "cell_type": "code",
   "execution_count": 81,
   "metadata": {
    "collapsed": false
   },
   "outputs": [
    {
     "name": "stdout",
     "output_type": "stream",
     "text": [
      "Features sorted by their rank:\n",
      "[(1.0, 'A'), (2.0, 'Colliander'), (3.0, 'A-Kliskey'), (4.0, 'L-Alessa'), (5.0, 'A-Andrews'), (6.0, 'M-Markowski'), (7.0, 'A-Alfimov'), (8.0, 'D-Berman'), (9.0, 'C-Kluever'), (10.0, 'B-Haines'), (11.0, 'E-Podest'), (12.0, 'A-Colliander'), (13.0, 'A-Berg'), (14.0, 'McNairn'), (15.0, 'G-Wiseman'), (16.0, 'M-Moghaddam'), (17.0, 'S'), (18.0, 'Yueh'), (19.0, 'E-Molkentin'), (20.0, 'E-Nadyozhina'), (21.0, 'D-Drozdov'), (22.0, 'G-Malkova'), (23.0, 'J-Bufton'), (24.0, 'J-Spinhirne'), (25.0, 'D-Hlavka'), (26.0, 'C-Shuman'), (27.0, 'D-Yi'), (28.0, 'R-Schutz'), (29.0, 'H-Zwally'), (30.0, 'A-Brenner'), (31.0, 'C-Parkinson'), (32.0, 'H'), (33.0, 'M-Temimi'), (34.0, 'R-Khanbilvardi'), (35.0, 'S-Hodge'), (36.0, 'R-Bell'), (37.0, 'K-Tinto'), (38.0, 'K-Hinkel'), (39.0, 'F-Nelson'), (40.0, 'M-Clark')]\n"
     ]
    }
   ],
   "source": [
    "# Code adapted from http://blog.datadive.net/selecting-good-features-part-iv-stability-selection-rfe-and-everything-side-by-side/\n",
    "\n",
    "X = contr_train.iloc[0:,2:]\n",
    "Y = np.log(contr_train.unique_users_ip)\n",
    "names = contr_train.iloc[0:,2:].columns\n",
    " \n",
    "#use linear regression as the model\n",
    "lr = LinearRegression()\n",
    "#rank all features, i.e continue the elimination until the last one\n",
    "rfe = RFE(lr, n_features_to_select=1)\n",
    "rfe.fit(X,Y)\n",
    " \n",
    "print \"Features sorted by their rank:\"\n",
    "print sorted(zip(map(lambda x: round(x, 4), rfe.ranking_), names))[0:40]"
   ]
  },
  {
   "cell_type": "code",
   "execution_count": 82,
   "metadata": {
    "collapsed": true
   },
   "outputs": [],
   "source": [
    "location_bin = pd.read_csv('location_as_binaries_2016-05-21_1427.csv')"
   ]
  },
  {
   "cell_type": "code",
   "execution_count": 83,
   "metadata": {
    "collapsed": true
   },
   "outputs": [],
   "source": [
    "# Set seed for reproducibility\n",
    "np.random.seed(1896)\n",
    "# Split dataframe into test (34%) and train (66%)\n",
    "location_train, location_test = train_test_split(location_bin, test_size = 0.20)"
   ]
  },
  {
   "cell_type": "code",
   "execution_count": 84,
   "metadata": {
    "collapsed": false
   },
   "outputs": [
    {
     "name": "stdout",
     "output_type": "stream",
     "text": [
      "1.18963076093\n",
      "Features sorted by their importance:\n",
      "[(0.2009, 'baltic sea'), (0.1697, 'oklahoma'), (0.1207, 'new zealand'), (0.0955, 'georgia'), (0.0879, 'bering sea'), (0.0873, 'antarctica'), (0.0838, 'arctic'), (0.0775, 'mexico'), (0.0768, 'maryland'), (0.0, 'western europe'), (0.0, 'western asia'), (0.0, 'weddell sea'), (0.0, 'uzbekistan'), (0.0, 'united states of america'), (0.0, 'turkmenistan'), (0.0, 'troposphere'), (0.0, 'texas'), (0.0, 'tennessee'), (0.0, 'tajikistan'), (0.0, 'switzerland')]\n"
     ]
    }
   ],
   "source": [
    "X = location_train.iloc[0:,2:]\n",
    "y = np.log(location_train.unique_users_ip)\n",
    "\n",
    "X_test = location_test.iloc[0:,2:]\n",
    "y_test = np.log(location_test.unique_users_ip)\n",
    "\n",
    "location_estimator = DecisionTreeRegressor(criterion='mse', max_leaf_nodes=10)\n",
    "location_estimator.fit(X, y)\n",
    "y_predict = location_estimator.predict(X_test)\n",
    "\n",
    "rmse = np.sqrt(mean_squared_error(y_test, y_predict))\n",
    "print rmse\n",
    "print \"Features sorted by their importance:\"\n",
    "print sorted(zip(map(lambda x: round(x, 4), location_estimator.feature_importances_), \n",
    "                 location_train.iloc[0:,2:].columns), reverse=True)[0:20]"
   ]
  },
  {
   "cell_type": "code",
   "execution_count": 85,
   "metadata": {
    "collapsed": true
   },
   "outputs": [],
   "source": [
    "location_features = location_train.iloc[0:,2:].columns\n",
    "visualize_tree(location_estimator, location_features, 'location_tree10')"
   ]
  },
  {
   "cell_type": "code",
   "execution_count": 86,
   "metadata": {
    "collapsed": true
   },
   "outputs": [],
   "source": [
    "sensors_bin = pd.read_csv('sensors_as_binaries_2016-05-21_1427.csv')"
   ]
  },
  {
   "cell_type": "code",
   "execution_count": 87,
   "metadata": {
    "collapsed": true
   },
   "outputs": [],
   "source": [
    "# Set seed for reproducibility\n",
    "np.random.seed(19)\n",
    "# Split dataframe into test (34%) and train (66%)\n",
    "sensors_train, sensors_test = train_test_split(sensors_bin, test_size = 0.20)"
   ]
  },
  {
   "cell_type": "code",
   "execution_count": 88,
   "metadata": {
    "collapsed": false
   },
   "outputs": [
    {
     "name": "stdout",
     "output_type": "stream",
     "text": [
      "1.02066058924\n",
      "Features sorted by their importance:\n",
      "[(0.3632, 'ssm/i'), (0.147, 'modis'), (0.107, 'dslr'), (0.0959, 'thir'), (0.0887, 'amsu-a'), (0.0788, 'smmr'), (0.0481, 'ssmis'), (0.0365, 'pals'), (0.0346, 'amsr-e'), (0.0, 'zls'), (0.0, 'xbt'), (0.0, 'wise'), (0.0, 'wind vanes'), (0.0, 'wind profilers'), (0.0, 'wet/dry precipitation samplers'), (0.0, 'wet bulb thermometers'), (0.0, 'wave height gauges'), (0.0, 'water bottles'), (0.0, 'vtpr'), (0.0, 'vtir')]\n"
     ]
    }
   ],
   "source": [
    "X = sensors_train.iloc[0:,2:]\n",
    "y = np.log(sensors_train.unique_users_ip)\n",
    "\n",
    "X_test = sensors_test.iloc[0:,2:]\n",
    "y_test = np.log(sensors_test.unique_users_ip)\n",
    "\n",
    "sensors_estimator = DecisionTreeRegressor(criterion='mse', max_leaf_nodes=10)\n",
    "sensors_estimator.fit(X, y)\n",
    "y_predict = sensors_estimator.predict(X_test)\n",
    "\n",
    "rmse = np.sqrt(mean_squared_error(y_test, y_predict))\n",
    "print rmse\n",
    "print \"Features sorted by their importance:\"\n",
    "print sorted(zip(map(lambda x: round(x, 4), sensors_estimator.feature_importances_), \n",
    "                 sensors_train.iloc[0:,2:].columns), reverse=True)[0:20]"
   ]
  },
  {
   "cell_type": "code",
   "execution_count": 89,
   "metadata": {
    "collapsed": true
   },
   "outputs": [],
   "source": [
    "sensors_features = sensors_train.iloc[0:,2:].columns\n",
    "visualize_tree(sensors_estimator, sensors_features, 'sensors_tree10')"
   ]
  },
  {
   "cell_type": "code",
   "execution_count": 90,
   "metadata": {
    "collapsed": false
   },
   "outputs": [
    {
     "name": "stdout",
     "output_type": "stream",
     "text": [
      "Features sorted by their score:\n",
      "[(1.0, 'smmr'), (1.0, 'modis'), (0.975, 'thir'), (0.97, 'dslr'), (0.96, 'ssmis'), (0.905, 'amsr-e'), (0.89, 'palsar'), (0.89, 'pals'), (0.87, 'awifs'), (0.79, 'mass spectrometers'), (0.78, 'zls'), (0.77, 'conus-soil'), (0.74, 'optical dust loggers'), (0.715, 'quickbird/bhrc-60'), (0.71, 'la-icp-ms'), (0.695, 'not specified'), (0.685, 'seismographs'), (0.685, 'sar'), (0.675, 'amsu-b'), (0.66, 'lidar'), (0.635, 'ssm/i'), (0.635, 'slar'), (0.635, 'sigma space lidar'), (0.63, 'lvis-gh'), (0.6, 'gas chromatographs'), (0.585, 'thermometers'), (0.585, 'esmr'), (0.57, 'visual observations'), (0.55, 'steel measuring tape'), (0.5, 'echo sounders'), (0.49, 'vegetation-1'), (0.47, 'tm'), (0.455, 'soil heat probe'), (0.435, 'radar'), (0.42, 'smap l-band radiometer '), (0.42, 'amsu-a'), (0.41, 'ra'), (0.4, 'tovs'), (0.4, 'scatterometers'), (0.385, 'smap l-band radiometer')]\n"
     ]
    },
    {
     "name": "stderr",
     "output_type": "stream",
     "text": [
      "/Users/Penguin/anaconda/lib/python2.7/site-packages/sklearn/linear_model/least_angle.py:309: ConvergenceWarning: Regressors in active set degenerate. Dropping a regressor, after 7 iterations, i.e. alpha=8.348e-03, with an active set of 7 regressors, and the smallest cholesky pivot element being 2.220e-16\n",
      "  ConvergenceWarning)\n",
      "/Users/Penguin/anaconda/lib/python2.7/site-packages/sklearn/linear_model/least_angle.py:309: ConvergenceWarning: Regressors in active set degenerate. Dropping a regressor, after 16 iterations, i.e. alpha=3.509e-03, with an active set of 16 regressors, and the smallest cholesky pivot element being 2.220e-16\n",
      "  ConvergenceWarning)\n",
      "/Users/Penguin/anaconda/lib/python2.7/site-packages/sklearn/linear_model/least_angle.py:309: ConvergenceWarning: Regressors in active set degenerate. Dropping a regressor, after 32 iterations, i.e. alpha=2.584e-03, with an active set of 32 regressors, and the smallest cholesky pivot element being 1.490e-08\n",
      "  ConvergenceWarning)\n",
      "/Users/Penguin/anaconda/lib/python2.7/site-packages/sklearn/linear_model/least_angle.py:309: ConvergenceWarning: Regressors in active set degenerate. Dropping a regressor, after 33 iterations, i.e. alpha=2.580e-03, with an active set of 33 regressors, and the smallest cholesky pivot element being 1.490e-08\n",
      "  ConvergenceWarning)\n",
      "/Users/Penguin/anaconda/lib/python2.7/site-packages/sklearn/linear_model/least_angle.py:309: ConvergenceWarning: Regressors in active set degenerate. Dropping a regressor, after 58 iterations, i.e. alpha=1.497e-03, with an active set of 56 regressors, and the smallest cholesky pivot element being 1.490e-08\n",
      "  ConvergenceWarning)\n",
      "/Users/Penguin/anaconda/lib/python2.7/site-packages/sklearn/linear_model/least_angle.py:309: ConvergenceWarning: Regressors in active set degenerate. Dropping a regressor, after 59 iterations, i.e. alpha=1.490e-03, with an active set of 57 regressors, and the smallest cholesky pivot element being 1.490e-08\n",
      "  ConvergenceWarning)\n",
      "/Users/Penguin/anaconda/lib/python2.7/site-packages/sklearn/linear_model/least_angle.py:309: ConvergenceWarning: Regressors in active set degenerate. Dropping a regressor, after 76 iterations, i.e. alpha=1.209e-03, with an active set of 74 regressors, and the smallest cholesky pivot element being 1.490e-08\n",
      "  ConvergenceWarning)\n",
      "/Users/Penguin/anaconda/lib/python2.7/site-packages/sklearn/linear_model/least_angle.py:309: ConvergenceWarning: Regressors in active set degenerate. Dropping a regressor, after 81 iterations, i.e. alpha=1.156e-03, with an active set of 79 regressors, and the smallest cholesky pivot element being 2.220e-16\n",
      "  ConvergenceWarning)\n",
      "/Users/Penguin/anaconda/lib/python2.7/site-packages/sklearn/linear_model/least_angle.py:334: ConvergenceWarning: Early stopping the lars path, as the residues are small and the current value of alpha is no longer well controlled. 84 iterations, alpha=1.129e-03, previous alpha=1.123e-03, with an active set of 81 regressors.\n",
      "  ConvergenceWarning)\n"
     ]
    }
   ],
   "source": [
    "# Code adapted from http://blog.datadive.net/selecting-good-features-part-iv-stability-selection-rfe-and-everything-side-by-side/\n",
    "\n",
    "#Data gets scaled automatically by sklearn's implementation\n",
    "X = sensors_train.iloc[0:,2:]\n",
    "Y = np.log(sensors_train.unique_users_ip)\n",
    "names = sensors_train.iloc[0:,2:].columns\n",
    " \n",
    "rlasso = RandomizedLasso()\n",
    "rlasso.fit(X, Y)\n",
    " \n",
    "print \"Features sorted by their score:\"\n",
    "print sorted(zip(map(lambda x: round(x, 4), rlasso.scores_), \n",
    "                 names), reverse=True)[0:40]"
   ]
  },
  {
   "cell_type": "code",
   "execution_count": 91,
   "metadata": {
    "collapsed": false
   },
   "outputs": [
    {
     "name": "stdout",
     "output_type": "stream",
     "text": [
      "Features sorted by their rank:\n",
      "[(1.0, 'accelerometers'), (2.0, 'transponders'), (3.0, 'pressure gauges'), (4.0, 'ice stress sensors'), (5.0, 'bathyphotometer'), (6.0, 'hydrophones'), (7.0, 'geophones'), (8.0, 'std'), (9.0, 'psychrometers'), (10.0, 'aneroid pressure sensor'), (11.0, 'acords'), (12.0, 'mcrds'), (13.0, 'avhrr-2'), (14.0, 'hrs'), (15.0, 'ctd'), (16.0, 'niskin bottles'), (17.0, 'amsu-b'), (18.0, 'ascat'), (19.0, 'seviri'), (20.0, 'par sensors'), (21.0, 'aers'), (22.0, 'icords'), (23.0, 'licor quantum sensor'), (24.0, 'wind vanes'), (25.0, 'ultrasonic depth gauge'), (26.0, 'side-scan sonar'), (27.0, 'ssu'), (28.0, 'bathythermographs'), (29.0, 'xbt'), (30.0, 'wet bulb thermometers'), (31.0, 'dry bulb thermometers'), (32.0, 'vtpr'), (33.0, 'wave height gauges'), (34.0, 'sirs'), (35.0, 'msu'), (36.0, 'sounders'), (37.0, 'smap l-band radiometer '), (38.0, 'viirs'), (39.0, 'sediment traps'), (40.0, 'electron microprobes')]\n"
     ]
    }
   ],
   "source": [
    "# Code adapted from http://blog.datadive.net/selecting-good-features-part-iv-stability-selection-rfe-and-everything-side-by-side/\n",
    "\n",
    "X = sensors_train.iloc[0:,2:]\n",
    "Y = np.log(sensors_train.unique_users_ip)\n",
    "names = sensors_train.iloc[0:,2:].columns\n",
    " \n",
    "#use linear regression as the model\n",
    "lr = LinearRegression()\n",
    "#rank all features, i.e continue the elimination until the last one\n",
    "rfe = RFE(lr, n_features_to_select=1)\n",
    "rfe.fit(X,Y)\n",
    " \n",
    "print \"Features sorted by their rank:\"\n",
    "print sorted(zip(map(lambda x: round(x, 4), rfe.ranking_), names))[0:40]"
   ]
  },
  {
   "cell_type": "code",
   "execution_count": 92,
   "metadata": {
    "collapsed": true
   },
   "outputs": [],
   "source": [
    "platform_bin = pd.read_csv('platforms_as_binaries_2016-05-25_0845.csv')"
   ]
  },
  {
   "cell_type": "code",
   "execution_count": 93,
   "metadata": {
    "collapsed": true
   },
   "outputs": [],
   "source": [
    "# Set seed for reproducibility\n",
    "np.random.seed(497)\n",
    "# Split dataframe into test (20%) and train (80%)\n",
    "platform_train, platform_test = train_test_split(platform_bin, test_size = 0.20)"
   ]
  },
  {
   "cell_type": "code",
   "execution_count": 94,
   "metadata": {
    "collapsed": false
   },
   "outputs": [
    {
     "name": "stdout",
     "output_type": "stream",
     "text": [
      "1.13639610881\n",
      "Features sorted by their importance:\n",
      "[(0.3128, 'dmsp 5d-3/f17'), (0.1641, 'goes'), (0.1299, 'terra'), (0.1014, 'aqua'), (0.0882, 'satellites'), (0.0791, 'nimbus-4'), (0.0759, 'dmsp 5d-2/f13'), (0.0485, 'radarsat-1'), (0.0, 'weather stations'), (0.0, 'tsx'), (0.0, 'suomi-npp'), (0.0, 'submarine'), (0.0, 'spot-5'), (0.0, 'spot-4'), (0.0, 'spot-3'), (0.0, 'spot-2'), (0.0, 'spot-1'), (0.0, 'smap observatory '), (0.0, 'smap observatory'), (0.0, 'ships')]\n"
     ]
    }
   ],
   "source": [
    "X = platform_train.iloc[0:,2:]\n",
    "y = np.log(platform_train.unique_users_ip)\n",
    "\n",
    "X_test = platform_test.iloc[0:,2:]\n",
    "y_test = np.log(platform_test.unique_users_ip)\n",
    "\n",
    "platform_estimator = DecisionTreeRegressor(criterion='mse', max_leaf_nodes=10)\n",
    "platform_estimator.fit(X, y)\n",
    "y_predict = platform_estimator.predict(X_test)\n",
    "\n",
    "rmse = np.sqrt(mean_squared_error(y_test, y_predict))\n",
    "print rmse\n",
    "print \"Features sorted by their importance:\"\n",
    "print sorted(zip(map(lambda x: round(x, 4), platform_estimator.feature_importances_), \n",
    "                 platform_train.iloc[0:,2:].columns), reverse=True)[0:20]"
   ]
  },
  {
   "cell_type": "code",
   "execution_count": 95,
   "metadata": {
    "collapsed": true
   },
   "outputs": [],
   "source": [
    "platform_features = platform_train.iloc[0:,2:].columns\n",
    "visualize_tree(platform_estimator, platform_features, 'platforms_tree10')"
   ]
  },
  {
   "cell_type": "code",
   "execution_count": 96,
   "metadata": {
    "collapsed": true
   },
   "outputs": [],
   "source": [
    "master_dummy = pd.concat([data_format_bin, keyword_bin.iloc[0:,2:], location_bin.iloc[0:,2:], \n",
    "                          sensors_bin.iloc[0:,2:], platform_bin.iloc[0:,2:]], axis=1)"
   ]
  },
  {
   "cell_type": "code",
   "execution_count": 97,
   "metadata": {
    "collapsed": false
   },
   "outputs": [
    {
     "data": {
      "text/plain": [
       "(797, 2077)"
      ]
     },
     "execution_count": 97,
     "metadata": {},
     "output_type": "execute_result"
    }
   ],
   "source": [
    "master_dummy.shape"
   ]
  },
  {
   "cell_type": "code",
   "execution_count": 98,
   "metadata": {
    "collapsed": true
   },
   "outputs": [],
   "source": [
    "master_dummy.to_csv('master_dummy_dataframe.csv', index=False, encoding='utf-8')"
   ]
  },
  {
   "cell_type": "code",
   "execution_count": 99,
   "metadata": {
    "collapsed": true
   },
   "outputs": [],
   "source": [
    "# Set seed for reproducibility\n",
    "np.random.seed(8)\n",
    "# Split dataframe into test (20%) and train (80%)\n",
    "master_train, master_test = train_test_split(master_dummy, test_size = 0.20)"
   ]
  },
  {
   "cell_type": "code",
   "execution_count": 100,
   "metadata": {
    "collapsed": false
   },
   "outputs": [
    {
     "name": "stdout",
     "output_type": "stream",
     "text": [
      "0.977652043834\n",
      "Features sorted by their importance:\n",
      "[(0.2776, 'sea ice pm polar stereo-project'), (0.1438, 'hdf-eos'), (0.1157, 'dmsp 5d-3/f17'), (0.1056, 'thir'), (0.0951, 'agdc-project'), (0.0918, 'png'), (0.0663, 'new zealand'), (0.0627, 'oklahoma'), (0.0415, 'satellites'), (0.0, 'zonal winds'), (0.0, 'zls'), (0.0, 'xml'), (0.0, 'xenon'), (0.0, 'xctd probes'), (0.0, 'xbt'), (0.0, 'worthington glacier'), (0.0, 'world meteorological organization'), (0.0, 'wolverine glacier'), (0.0, 'wms'), (0.0, 'wmo'), (0.0, 'wise'), (0.0, 'winter air temperature'), (0.0, 'wind-induced undercatch'), (0.0, 'wind velocity as vectors'), (0.0, 'wind velocity'), (0.0, 'wind vanes'), (0.0, 'wind speed'), (0.0, 'wind profilers'), (0.0, 'wind direction'), (0.0, 'whillans ice stream'), (0.0, 'wfs'), (0.0, 'wetlands'), (0.0, 'wet/dry precipitation samplers'), (0.0, 'wet bulb thermometers'), (0.0, 'western europe'), (0.0, 'western divide core'), (0.0, 'western asia'), (0.0, 'western aleut/unangan'), (0.0, 'west antarctica'), (0.0, 'west antarctic ice sheet instability')]\n"
     ]
    }
   ],
   "source": [
    "X = master_train.iloc[0:,2:]\n",
    "y = np.log(master_train.unique_users_ip)\n",
    "\n",
    "X_test = master_test.iloc[0:,2:]\n",
    "y_test = np.log(master_test.unique_users_ip)\n",
    "\n",
    "master_estimator = DecisionTreeRegressor(criterion='mse', max_leaf_nodes=10)\n",
    "master_estimator.fit(X, y)\n",
    "y_predict = master_estimator.predict(X_test)\n",
    "\n",
    "rmse = np.sqrt(mean_squared_error(y_test, y_predict))\n",
    "print rmse\n",
    "print \"Features sorted by their importance:\"\n",
    "print sorted(zip(map(lambda x: round(x, 4), master_estimator.feature_importances_), \n",
    "                 master_train.iloc[0:,2:].columns), reverse=True)[0:40]"
   ]
  },
  {
   "cell_type": "code",
   "execution_count": 101,
   "metadata": {
    "collapsed": true
   },
   "outputs": [],
   "source": [
    "master_features = master_train.iloc[0:,2:].columns\n",
    "visualize_tree(master_estimator, master_features, 'master_tree10')"
   ]
  },
  {
   "cell_type": "code",
   "execution_count": 102,
   "metadata": {
    "collapsed": true
   },
   "outputs": [],
   "source": [
    "master_and_counts = pd.concat([master_dummy, nsidc_df[['count_data_format', 'count_contributors', \n",
    "                                                       'count_platforms', 'count_sensors', 'count_spatial_coverage', \n",
    "                                                       'count_spatial_resolution', 'count_locations', 'count_keyword']]], axis = 1)"
   ]
  },
  {
   "cell_type": "code",
   "execution_count": 103,
   "metadata": {
    "collapsed": true
   },
   "outputs": [],
   "source": [
    "master_and_counts.to_csv('master_dummies_and_counts.csv', index=False, encoding='utf-8')"
   ]
  },
  {
   "cell_type": "code",
   "execution_count": 104,
   "metadata": {
    "collapsed": true
   },
   "outputs": [],
   "source": [
    "# Set seed for reproducibility\n",
    "np.random.seed(8)\n",
    "# Split dataframe into test (20%) and train (80%)\n",
    "master_and_counts_train, master_and_counts_test = train_test_split(master_and_counts, test_size = 0.20)"
   ]
  },
  {
   "cell_type": "code",
   "execution_count": 105,
   "metadata": {
    "collapsed": false
   },
   "outputs": [
    {
     "name": "stdout",
     "output_type": "stream",
     "text": [
      "1.00975824797\n",
      "Features sorted by their importance:\n",
      "[(0.2708, 'sea ice pm polar stereo-project'), (0.1405, 'count_platforms'), (0.1402, 'hdf-eos'), (0.099, 'thir'), (0.0895, 'png'), (0.088, 'agdc-project'), (0.066, 'new zealand'), (0.0615, 'oklahoma'), (0.0445, 'dmsp 5d-3/f17'), (0.0, 'zonal winds'), (0.0, 'zls'), (0.0, 'xml'), (0.0, 'xenon'), (0.0, 'xctd probes'), (0.0, 'xbt'), (0.0, 'worthington glacier'), (0.0, 'world meteorological organization'), (0.0, 'wolverine glacier'), (0.0, 'wms'), (0.0, 'wmo'), (0.0, 'wise'), (0.0, 'winter air temperature'), (0.0, 'wind-induced undercatch'), (0.0, 'wind velocity as vectors'), (0.0, 'wind velocity'), (0.0, 'wind vanes'), (0.0, 'wind speed'), (0.0, 'wind profilers'), (0.0, 'wind direction'), (0.0, 'whillans ice stream'), (0.0, 'wfs'), (0.0, 'wetlands'), (0.0, 'wet/dry precipitation samplers'), (0.0, 'wet bulb thermometers'), (0.0, 'western europe'), (0.0, 'western divide core'), (0.0, 'western asia'), (0.0, 'western aleut/unangan'), (0.0, 'west antarctica'), (0.0, 'west antarctic ice sheet instability')]\n"
     ]
    }
   ],
   "source": [
    "X = master_and_counts_train.iloc[0:,2:]\n",
    "y = np.log(master_and_counts_train.unique_users_ip)\n",
    "\n",
    "X_test = master_and_counts_test.iloc[0:,2:]\n",
    "y_test = np.log(master_and_counts_test.unique_users_ip)\n",
    "\n",
    "master_and_counts_estimator = DecisionTreeRegressor(criterion='mse', max_leaf_nodes=10)\n",
    "master_and_counts_estimator.fit(X, y)\n",
    "y_predict = master_and_counts_estimator.predict(X_test)\n",
    "\n",
    "rmse = np.sqrt(mean_squared_error(y_test, y_predict))\n",
    "print rmse\n",
    "print \"Features sorted by their importance:\"\n",
    "print sorted(zip(map(lambda x: round(x, 4), master_and_counts_estimator.feature_importances_), \n",
    "                 master_and_counts_train.iloc[0:,2:].columns), reverse=True)[0:40]"
   ]
  },
  {
   "cell_type": "code",
   "execution_count": 106,
   "metadata": {
    "collapsed": true
   },
   "outputs": [],
   "source": [
    "master_and_counts_features = master_and_counts_train.iloc[0:,2:].columns\n",
    "visualize_tree(master_and_counts_estimator, master_and_counts_features, 'master_and_counts_tree10')"
   ]
  },
  {
   "cell_type": "code",
   "execution_count": 107,
   "metadata": {
    "collapsed": false
   },
   "outputs": [
    {
     "data": {
      "image/png": "[encoded data removed]",
      "text/plain": [
       "<matplotlib.figure.Figure at 0x10c61c510>"
      ]
     },
     "metadata": {},
     "output_type": "display_data"
    }
   ],
   "source": [
    "\n",
    "scatter_matrix(nsidc_df[['count_data_format', 'count_platforms', 'count_spatial_resolution', 'count_keyword', 'count_contributors', 'count_locations']], alpha=0.4, figsize=(16, 16), diagonal='kde')\n",
    "# Save plot as jpg\n",
    "plt.savefig('ScatterPlotMatrix.jpg')"
   ]
  },
  {
   "cell_type": "code",
   "execution_count": 108,
   "metadata": {
    "collapsed": false
   },
   "outputs": [
    {
     "data": {
      "text/plain": [
       "<matplotlib.legend.Legend at 0x117ebbf90>"
      ]
     },
     "execution_count": 108,
     "metadata": {},
     "output_type": "execute_result"
    },
    {
     "data": {
      "image/png": "[encoded data removed]",
      "text/plain": [
       "<matplotlib.figure.Figure at 0x111559690>"
      ]
     },
     "metadata": {},
     "output_type": "display_data"
    }
   ],
   "source": [
    "fig = plt.figure(figsize=(16,8))  # create a figure object\n",
    "axes = fig.add_subplot(1, 1, 1)  # create an axes object in the figure\n",
    "\n",
    "\n",
    "# Set bin size to 1\n",
    "binwidth = 1\n",
    "# Plot a histogram of citation dates for the whole dataframe\n",
    "plt.scatter(nsidc_df['count_data_format'], np.log(nsidc_df['unique_users_ip']), color='blue', alpha=0.4, label='count_data_format')\n",
    "plt.scatter(nsidc_df['count_platforms'], np.log(nsidc_df['unique_users_ip']), color='red', alpha=0.4, label='count_platforms')\n",
    "plt.scatter(nsidc_df['count_spatial_resolution'], np.log(nsidc_df['unique_users_ip']), color='darkviolet', alpha=0.4, label='count_spatial_resolution')\n",
    "plt.scatter(nsidc_df['count_keyword'], np.log(nsidc_df['unique_users_ip']), color='yellow', alpha=0.4, label='count_keyword')\n",
    "\n",
    "\n",
    "\n",
    "# Add x-axis label\n",
    "plt.xlabel('Number per Dataset', fontsize=16)\n",
    "# Add y-axis label\n",
    "plt.ylabel('log of download count', fontsize=16)\n",
    "# Add a plot title\n",
    "plt.title('Count of Specific Features per NSIDC Dataset', fontsize=20)\n",
    "plt.axis([-1, 70, -1, 11])\n",
    "plt.legend()"
   ]
  }
 ],
 "metadata": {
  "kernelspec": {
   "display_name": "Python 2",
   "language": "python",
   "name": "python2"
  },
  "language_info": {
   "codemirror_mode": {
    "name": "ipython",
    "version": 2
   },
   "file_extension": ".py",
   "mimetype": "text/x-python",
   "name": "python",
   "nbconvert_exporter": "python",
   "pygments_lexer": "ipython2",
   "version": "2.7.11"
  }
 },
 "nbformat": 4,
 "nbformat_minor": 0
}
